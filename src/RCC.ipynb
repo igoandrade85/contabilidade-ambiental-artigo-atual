{
 "cells": [
  {
   "cell_type": "markdown",
   "id": "df30e26c-9abf-40af-b2b1-d70c2d6ea61f",
   "metadata": {
    "tags": []
   },
   "source": [
    "# Revista Contemporânea de Contabilidade – RCC"
   ]
  },
  {
   "cell_type": "markdown",
   "id": "fe988f18-e6fb-4503-8332-86692bc5bda6",
   "metadata": {},
   "source": [
    "## Bibliotecas importadas"
   ]
  },
  {
   "cell_type": "code",
   "execution_count": 1,
   "id": "dab4dd4a-872c-472d-b7f6-3993f94fb82a",
   "metadata": {},
   "outputs": [],
   "source": [
    "import requests\n",
    "from bs4 import BeautifulSoup\n",
    "\n",
    "import pandas as pd"
   ]
  },
  {
   "cell_type": "markdown",
   "id": "e99d241f-0c72-426a-abbe-00f36ce44e00",
   "metadata": {},
   "source": [
    "## Funções básicas"
   ]
  },
  {
   "cell_type": "code",
   "execution_count": 2,
   "id": "89c421a9-5768-4f88-9240-feba8e27f923",
   "metadata": {},
   "outputs": [],
   "source": [
    "def criar_query(key_word):\n",
    "    return \"+\".join(key_word.split())"
   ]
  },
  {
   "cell_type": "code",
   "execution_count": 3,
   "id": "eeb94304-948e-46e7-bf69-c7afc7fa701e",
   "metadata": {},
   "outputs": [],
   "source": [
    "def listar_links_pagina(url_search):\n",
    "    page = requests.get(url_search)\n",
    "    soup = BeautifulSoup(page.content, 'html.parser')\n",
    "    tbl_results = soup.find('table', {'class': 'listing'})\n",
    "    a_links = []\n",
    "    for a in tbl_results.find_all('a'):\n",
    "           if 'Resumo' in a.text:\n",
    "                a_links.append(a['href'])\n",
    "    return a_links\n",
    "\n"
   ]
  },
  {
   "cell_type": "code",
   "execution_count": 4,
   "id": "1882f580-dee2-4890-9b3f-847ab27e0218",
   "metadata": {},
   "outputs": [],
   "source": [
    "def listar_links(url_search_text, query, pg_num=1):\n",
    "    a_links = [] \n",
    "    while True:\n",
    "        url_search = url_search_text.replace('__query__', query).replace('__pg_num__', str(pg_num))\n",
    "        tmp = listar_links_pagina(url_search)\n",
    "        if len(tmp) != 0:\n",
    "            pg_num += 1\n",
    "            a_links += tmp\n",
    "        else:\n",
    "            break\n",
    "    return a_links\n",
    "\n"
   ]
  },
  {
   "cell_type": "code",
   "execution_count": 5,
   "id": "92473d42-e93c-4b3b-a548-61a5a9e89348",
   "metadata": {},
   "outputs": [
    {
     "data": {
      "text/plain": [
       "'https://revistas.ufpr.br/rcc/article/view/52350'"
      ]
     },
     "execution_count": 5,
     "metadata": {},
     "output_type": "execute_result"
    }
   ],
   "source": [
    "url_search_text = 'https://revistas.ufpr.br/rcc/search/search?query=__query__&searchJournal=49&authors=&title=&abstract=&galleyFullText=&suppFiles=&discipline=&subject=&type=&coverage=&indexTerms=&dateFromMonth=01&dateFromDay=1&dateFromYear=2012&dateToMonth=12&dateToDay=31&dateToYear=2021&orderBy=&orderDir=&searchPage=__pg_num__#results'\n",
    "links = listar_links(url_search_text, 'contabilidade+ambiental', pg_num=1)\n",
    "\n",
    "link = links[0]\n",
    "\n",
    "link"
   ]
  },
  {
   "cell_type": "code",
   "execution_count": 6,
   "id": "e3d7e050-874e-4c78-adf8-11e600660e5d",
   "metadata": {},
   "outputs": [],
   "source": [
    "page = requests.get(link)\n",
    "soup = BeautifulSoup(page.content, 'html.parser')"
   ]
  },
  {
   "cell_type": "code",
   "execution_count": 7,
   "id": "505b1f20-e533-475b-99eb-b7c3e0f9f9a4",
   "metadata": {},
   "outputs": [],
   "source": [
    "def completar_lista(lista):\n",
    "    if len(lista) < 6:\n",
    "        lista += (6 - len(lista)) * ['']\n",
    "    return lista"
   ]
  },
  {
   "cell_type": "code",
   "execution_count": 8,
   "id": "380fbe5b-f745-404a-a766-62f9df21691e",
   "metadata": {},
   "outputs": [],
   "source": [
    "def captura_titulo(soup):\n",
    "    try:\n",
    "        title_tag = soup.find('div', {'id': 'articleTitle'})\n",
    "        title = title_tag.find('h3').text\n",
    "    except:\n",
    "        title = ''\n",
    "    return {'Título': title}"
   ]
  },
  {
   "cell_type": "code",
   "execution_count": 9,
   "id": "941d2c1d-7f08-4392-9ad0-8264aeeaeb0c",
   "metadata": {},
   "outputs": [
    {
     "data": {
      "text/plain": [
       "'Revisão Bibliográfica do Perfil Temático e Metodológico da Pesquisa em Disclosure Voluntário veiculada em Edições Eletrônicas de Periódicos Brasileiros e Internacionais entre 2002 e 2018.'"
      ]
     },
     "execution_count": 9,
     "metadata": {},
     "output_type": "execute_result"
    }
   ],
   "source": [
    "captura_titulo(soup)['Título']"
   ]
  },
  {
   "cell_type": "code",
   "execution_count": 10,
   "id": "50468f30-b4ce-4213-8579-4af8ee579376",
   "metadata": {},
   "outputs": [],
   "source": [
    "def captura_data(soup):\n",
    "    try:\n",
    "        year_tags = soup.find('div', {'id': 'breadcrumb'})\n",
    "        year_tag = year_tags.find_all('a')\n",
    "        year_text = year_tag[1].text\n",
    "        year = year_text[-5:-1]\n",
    "    except:\n",
    "        year = ''\n",
    "    return {'Data de Publicação': year}"
   ]
  },
  {
   "cell_type": "code",
   "execution_count": 11,
   "id": "57eb4e5c-7c12-493d-a7ff-fe18546124a4",
   "metadata": {},
   "outputs": [
    {
     "data": {
      "text/plain": [
       "{'Data de Publicação': '2019'}"
      ]
     },
     "execution_count": 11,
     "metadata": {},
     "output_type": "execute_result"
    }
   ],
   "source": [
    "captura_data(soup)"
   ]
  },
  {
   "cell_type": "code",
   "execution_count": 12,
   "id": "b230fedd-6d44-4a81-acf9-60e876529a31",
   "metadata": {},
   "outputs": [],
   "source": [
    "def captura_resumo(soup):\n",
    "    try:\n",
    "        abstract_tag = soup.find('div', {'id': 'articleAbstract'})\n",
    "        abstract = abstract_tag.find('div').text\n",
    "    except:\n",
    "        abstract = ''\n",
    "    return {'Resumo': abstract}"
   ]
  },
  {
   "cell_type": "code",
   "execution_count": 13,
   "id": "a4926c07-a786-44c1-956f-afb4b40c3b93",
   "metadata": {},
   "outputs": [
    {
     "data": {
      "text/plain": [
       "{'Resumo': 'Levantamento efetuado na base Scopus demonstrou que o tema da divulgação voluntária passou por gradativa ascensão entre as pesquisas acadêmicas da área de Negócios, Gestão e Contabilidade, passando de 67 artigos no período 1979-1999 a 887 artigos no período 2000-2018. A relevância do tema foi acentuada com as publicações de Verrecchia (2001) e Dye (2001). Em vista deste cenário, questionou-se: Qual é o perfil temático e metodológico das investigações científicas em “Divulgação Voluntária” publicadas entre 2002 e 2018 nas versões eletrônicas de periódicos da área de Contabilidade? Para tanto, empregou-se técnicas de bibliometria e análise de conteúdo. As amostras selecionadas abrangeram 247 artigos internacionais e 71 artigos nacionais. Como principais resultados, os assuntos mais abordados dentro da temática foram Disclosure Ambiental, Responsabilidade Social Corporativa, Informações Socioambientais e de Sustentabilidade, Itens específicos dos demonstrativos e NEs, Eficiência de mercados, Estrutura e custo de capital – estes dois últimos na amostra internacional. As metodologias predominantes foram modelos econométricos, análise de conteúdo, dados em painel, entrevistas, composição de índices e revisão de literatura – estes três últimos na amostra internacional. Grande parte dos trabalhos são empíricos e explicativos, sendo também os artigos internacionais predominantemente transversais e os nacionais descritivos e longitudinais. Além disso, segundo levantamento da quantidade de artigos publicados por ano, os artigos brasileiros apresentaram coeficiente de variação de 74,40% em 15 anos, em comparação aos estrangeiros com coeficiente de 21,09% em 17 anos, assim, a produção nacional oscilou mais, bem como iniciou tardiamente. Conforme comparação das obras mais referenciadas pelos autores, os estudos anteriores supriram o embasamento teórico e metodológico dos artigos de periódicos estrangeiros, enquanto que no Brasil se recorreu mais a livros e teses. Por fim, ainda foi possível levantar em quais bases e periódicos encontraram-se os artigos e onde se localizam as instituições mais creditadas pelos autores.'}"
      ]
     },
     "execution_count": 13,
     "metadata": {},
     "output_type": "execute_result"
    }
   ],
   "source": [
    "captura_resumo(soup)"
   ]
  },
  {
   "cell_type": "code",
   "execution_count": 14,
   "id": "f38caded-13c5-4c28-986d-f00660034281",
   "metadata": {},
   "outputs": [],
   "source": [
    "def captura_palavras_chave(soup):\n",
    "    try:\n",
    "        kw_tag = soup.find('div', {'id': 'articleSubject'})\n",
    "        kw = kw_tag.find('div').text.replace(',', '.').replace(';', '.')\n",
    "    except:\n",
    "        kw = ''\n",
    "    return {'Palavras-chave': kw}"
   ]
  },
  {
   "cell_type": "code",
   "execution_count": 15,
   "id": "3110c7a4-a0ec-4dbb-bbe1-5071423053e5",
   "metadata": {},
   "outputs": [
    {
     "data": {
      "text/plain": [
       "{'Palavras-chave': 'Análises Bibliométricas. Divulgação Voluntária. Índices Cienciométricos.'}"
      ]
     },
     "execution_count": 15,
     "metadata": {},
     "output_type": "execute_result"
    }
   ],
   "source": [
    "captura_palavras_chave(soup)"
   ]
  },
  {
   "cell_type": "code",
   "execution_count": 16,
   "id": "36367342-b031-4345-95a9-e843c9b3c5e9",
   "metadata": {},
   "outputs": [],
   "source": [
    "def captura_autores(soup):\n",
    "    autores = []\n",
    "    try:\n",
    "        authors_tag = soup.find('div', {'id': 'authorString'})\n",
    "        authors_full = authors_tag.find('em')\n",
    "        autores = authors_full.text.split(', ')\n",
    "    except:\n",
    "        pass\n",
    "\n",
    "    qtd_autores = len(autores)\n",
    "    autores = completar_lista(autores)\n",
    "    autores = [qtd_autores] + autores\n",
    "    \n",
    "    key_autores = [f\"Autor {i}\" for i in range(1, 7)]\n",
    "    key_autores = ['Qtd. de Autores'] + key_autores\n",
    "\n",
    "    return dict(zip(key_autores, autores))"
   ]
  },
  {
   "cell_type": "code",
   "execution_count": 17,
   "id": "dbb7091c-ab5a-434a-b403-5b91c9c23cb5",
   "metadata": {},
   "outputs": [
    {
     "data": {
      "text/plain": [
       "['Aline Andrade Barbosa da Silva',\n",
       " 'Renata Orsato',\n",
       " 'Luciano Márcio Scherer',\n",
       " 'Márcia Maria dos Santos Bortolocci Espejo']"
      ]
     },
     "execution_count": 17,
     "metadata": {},
     "output_type": "execute_result"
    }
   ],
   "source": [
    "authors_tag = soup.find('div', {'id': 'authorString'})\n",
    "authors_full = authors_tag.find('em')\n",
    "autores = authors_full.text.split(', ')\n",
    "\n",
    "autores"
   ]
  },
  {
   "cell_type": "code",
   "execution_count": 18,
   "id": "c41c3a65-5284-4eaa-8581-9faf76ece330",
   "metadata": {},
   "outputs": [
    {
     "data": {
      "text/plain": [
       "{'Qtd. de Autores': 4,\n",
       " 'Autor 1': 'Aline Andrade Barbosa da Silva',\n",
       " 'Autor 2': 'Renata Orsato',\n",
       " 'Autor 3': 'Luciano Márcio Scherer',\n",
       " 'Autor 4': 'Márcia Maria dos Santos Bortolocci Espejo',\n",
       " 'Autor 5': '',\n",
       " 'Autor 6': ''}"
      ]
     },
     "execution_count": 18,
     "metadata": {},
     "output_type": "execute_result"
    }
   ],
   "source": [
    "captura_autores(soup)"
   ]
  },
  {
   "cell_type": "code",
   "execution_count": 19,
   "id": "2aa8fd49-3fe3-41fc-927f-bb933136d0e2",
   "metadata": {},
   "outputs": [],
   "source": [
    "def captura_afiliacao(soup):\n",
    "    affiliation_list = []\n",
    "    try:\n",
    "        authors_tag = soup.find_all('div', {'class': 'authorBio'})\n",
    "        for p in authors_tag:\n",
    "            try:\n",
    "                affiliation = p.find_all('br')[-2].next_sibling\n",
    "                affiliation = affiliation.replace('\\t', '')\n",
    "            except:\n",
    "                affiliation = ''\n",
    "            affiliation_list.append(affiliation)\n",
    "    except:\n",
    "        pass\n",
    "    affiliation_list = completar_lista(affiliation_list)\n",
    "    key_affiliation = [f\"Afilição {i}\" for i in range(1, 7)]\n",
    "\n",
    "    return dict(zip(key_affiliation, affiliation_list))"
   ]
  },
  {
   "cell_type": "code",
   "execution_count": 20,
   "id": "486c51d9-ce0b-4730-9a96-7bf68c955ae5",
   "metadata": {},
   "outputs": [
    {
     "data": {
      "text/plain": [
       "{'Afilição 1': '',\n",
       " 'Afilição 2': '',\n",
       " 'Afilição 3': '',\n",
       " 'Afilição 4': '',\n",
       " 'Afilição 5': '',\n",
       " 'Afilição 6': ''}"
      ]
     },
     "execution_count": 20,
     "metadata": {},
     "output_type": "execute_result"
    }
   ],
   "source": [
    "captura_afiliacao(soup)"
   ]
  },
  {
   "cell_type": "code",
   "execution_count": 21,
   "id": "7e8194b3-a261-43b5-aaf5-1510ee1d1b50",
   "metadata": {},
   "outputs": [],
   "source": [
    "def realizar_consulta(key_words_list):\n",
    "    periodico_nome_dict = {'Revista': 'Revista de Contabilidade e Controladoria – RC&C'}\n",
    "    url_search_text = 'https://revistas.ufpr.br/rcc/search/search?query=__query__&searchJournal=49&authors=&title=&abstract=&galleyFullText=&suppFiles=&discipline=&subject=&type=&coverage=&indexTerms=&dateFromMonth=01&dateFromDay=1&dateFromYear=2012&dateToMonth=12&dateToDay=31&dateToYear=2021&orderBy=&orderDir=&searchPage=__pg_num__#results'\n",
    "\n",
    "    a_links = []\n",
    "    for key_word in key_words_list:\n",
    "        query = criar_query(key_word)\n",
    "        a_links += listar_links(url_search_text, query)\n",
    "        \n",
    "    resultados = []\n",
    "    for link in a_links:\n",
    "        link_dict = {'Url Artigo': link}\n",
    "        page = requests.get(link)\n",
    "        soup = BeautifulSoup(page.content, 'html.parser')\n",
    "        \n",
    "        if 'Pré-textual' in captura_titulo(soup)['Título'] or 'CAP Accounting and Management' in captura_titulo(soup)['Título']:\n",
    "            continue\n",
    "            \n",
    "        dict_artigo = {\n",
    "            **captura_data(soup),\n",
    "            **captura_titulo(soup),\n",
    "            **captura_resumo(soup),\n",
    "            **captura_palavras_chave(soup),\n",
    "            **captura_autores(soup),\n",
    "            **captura_afiliacao(soup),\n",
    "            **link_dict,\n",
    "            **periodico_nome_dict\n",
    "        }\n",
    "        resultados.append(dict_artigo)\n",
    "    df = pd.DataFrame(resultados)\n",
    "    df['Data de Publicação'] = pd.to_datetime(df['Data de Publicação'], format='%Y')\n",
    "    return df"
   ]
  },
  {
   "cell_type": "markdown",
   "id": "2b0abfd7-a392-42f5-a377-7b0db2717e3f",
   "metadata": {},
   "source": [
    "## Pesquisa por artigos"
   ]
  },
  {
   "cell_type": "code",
   "execution_count": 22,
   "id": "3fcf8092-c93f-4fb4-8624-8793be02c073",
   "metadata": {},
   "outputs": [
    {
     "data": {
      "text/html": [
       "<div>\n",
       "<style scoped>\n",
       "    .dataframe tbody tr th:only-of-type {\n",
       "        vertical-align: middle;\n",
       "    }\n",
       "\n",
       "    .dataframe tbody tr th {\n",
       "        vertical-align: top;\n",
       "    }\n",
       "\n",
       "    .dataframe thead th {\n",
       "        text-align: right;\n",
       "    }\n",
       "</style>\n",
       "<table border=\"1\" class=\"dataframe\">\n",
       "  <thead>\n",
       "    <tr style=\"text-align: right;\">\n",
       "      <th></th>\n",
       "      <th>Data de Publicação</th>\n",
       "      <th>Título</th>\n",
       "      <th>Resumo</th>\n",
       "      <th>Palavras-chave</th>\n",
       "      <th>Qtd. de Autores</th>\n",
       "      <th>Autor 1</th>\n",
       "      <th>Autor 2</th>\n",
       "      <th>Autor 3</th>\n",
       "      <th>Autor 4</th>\n",
       "      <th>Autor 5</th>\n",
       "      <th>Autor 6</th>\n",
       "      <th>Afilição 1</th>\n",
       "      <th>Afilição 2</th>\n",
       "      <th>Afilição 3</th>\n",
       "      <th>Afilição 4</th>\n",
       "      <th>Afilição 5</th>\n",
       "      <th>Afilição 6</th>\n",
       "      <th>Url Artigo</th>\n",
       "      <th>Revista</th>\n",
       "    </tr>\n",
       "  </thead>\n",
       "  <tbody>\n",
       "    <tr>\n",
       "      <th>0</th>\n",
       "      <td>2019-01-01</td>\n",
       "      <td>Revisão Bibliográfica do Perfil Temático e Met...</td>\n",
       "      <td>Levantamento efetuado na base Scopus demonstro...</td>\n",
       "      <td>Análises Bibliométricas. Divulgação Voluntária...</td>\n",
       "      <td>4</td>\n",
       "      <td>Aline Andrade Barbosa da Silva</td>\n",
       "      <td>Renata Orsato</td>\n",
       "      <td>Luciano Márcio Scherer</td>\n",
       "      <td>Márcia Maria dos Santos Bortolocci Espejo</td>\n",
       "      <td></td>\n",
       "      <td></td>\n",
       "      <td></td>\n",
       "      <td></td>\n",
       "      <td></td>\n",
       "      <td></td>\n",
       "      <td></td>\n",
       "      <td></td>\n",
       "      <td>https://revistas.ufpr.br/rcc/article/view/52350</td>\n",
       "      <td>Revista de Contabilidade e Controladoria – RC&amp;C</td>\n",
       "    </tr>\n",
       "    <tr>\n",
       "      <th>1</th>\n",
       "      <td>2019-01-01</td>\n",
       "      <td>DA BARRAGEM DE FUNDÃO À CONTABILIDADE: UMA ANÁ...</td>\n",
       "      <td>Em novembro de 2015 no município de Mariana, M...</td>\n",
       "      <td>Avaliação de Desempenho. Contabilidade Ambient...</td>\n",
       "      <td>1</td>\n",
       "      <td>Herberty Cerqueira Lima</td>\n",
       "      <td></td>\n",
       "      <td></td>\n",
       "      <td></td>\n",
       "      <td></td>\n",
       "      <td></td>\n",
       "      <td></td>\n",
       "      <td></td>\n",
       "      <td></td>\n",
       "      <td></td>\n",
       "      <td></td>\n",
       "      <td></td>\n",
       "      <td>https://revistas.ufpr.br/rcc/article/view/71041</td>\n",
       "      <td>Revista de Contabilidade e Controladoria – RC&amp;C</td>\n",
       "    </tr>\n",
       "    <tr>\n",
       "      <th>2</th>\n",
       "      <td>2013-01-01</td>\n",
       "      <td>UMA AVALIAÇÃO DOS EFEITOS DOS SISTEMAS DE INCE...</td>\n",
       "      <td>As organizações estão inseridas em um mercado ...</td>\n",
       "      <td>Desempenho econômico. Sistemas de incentivos. ...</td>\n",
       "      <td>5</td>\n",
       "      <td>Guillermina Tannuri</td>\n",
       "      <td>Sueli Farias</td>\n",
       "      <td>Ernesto Fernando Rodrigues Vicente</td>\n",
       "      <td>Hans Michael van Bellen</td>\n",
       "      <td>Luiz Alberton</td>\n",
       "      <td></td>\n",
       "      <td></td>\n",
       "      <td></td>\n",
       "      <td></td>\n",
       "      <td></td>\n",
       "      <td></td>\n",
       "      <td></td>\n",
       "      <td>https://revistas.ufpr.br/rcc/article/view/27292</td>\n",
       "      <td>Revista de Contabilidade e Controladoria – RC&amp;C</td>\n",
       "    </tr>\n",
       "  </tbody>\n",
       "</table>\n",
       "</div>"
      ],
      "text/plain": [
       "  Data de Publicação                                             Título  \\\n",
       "0         2019-01-01  Revisão Bibliográfica do Perfil Temático e Met...   \n",
       "1         2019-01-01  DA BARRAGEM DE FUNDÃO À CONTABILIDADE: UMA ANÁ...   \n",
       "2         2013-01-01  UMA AVALIAÇÃO DOS EFEITOS DOS SISTEMAS DE INCE...   \n",
       "\n",
       "                                              Resumo  \\\n",
       "0  Levantamento efetuado na base Scopus demonstro...   \n",
       "1  Em novembro de 2015 no município de Mariana, M...   \n",
       "2  As organizações estão inseridas em um mercado ...   \n",
       "\n",
       "                                      Palavras-chave  Qtd. de Autores  \\\n",
       "0  Análises Bibliométricas. Divulgação Voluntária...                4   \n",
       "1  Avaliação de Desempenho. Contabilidade Ambient...                1   \n",
       "2  Desempenho econômico. Sistemas de incentivos. ...                5   \n",
       "\n",
       "                          Autor 1        Autor 2  \\\n",
       "0  Aline Andrade Barbosa da Silva  Renata Orsato   \n",
       "1         Herberty Cerqueira Lima                  \n",
       "2             Guillermina Tannuri   Sueli Farias   \n",
       "\n",
       "                              Autor 3  \\\n",
       "0              Luciano Márcio Scherer   \n",
       "1                                       \n",
       "2  Ernesto Fernando Rodrigues Vicente   \n",
       "\n",
       "                                     Autor 4        Autor 5 Autor 6  \\\n",
       "0  Márcia Maria dos Santos Bortolocci Espejo                          \n",
       "1                                                                     \n",
       "2                    Hans Michael van Bellen  Luiz Alberton           \n",
       "\n",
       "  Afilição 1 Afilição 2 Afilição 3 Afilição 4 Afilição 5 Afilição 6  \\\n",
       "0                                                                     \n",
       "1                                                                     \n",
       "2                                                                     \n",
       "\n",
       "                                        Url Artigo  \\\n",
       "0  https://revistas.ufpr.br/rcc/article/view/52350   \n",
       "1  https://revistas.ufpr.br/rcc/article/view/71041   \n",
       "2  https://revistas.ufpr.br/rcc/article/view/27292   \n",
       "\n",
       "                                           Revista  \n",
       "0  Revista de Contabilidade e Controladoria – RC&C  \n",
       "1  Revista de Contabilidade e Controladoria – RC&C  \n",
       "2  Revista de Contabilidade e Controladoria – RC&C  "
      ]
     },
     "execution_count": 22,
     "metadata": {},
     "output_type": "execute_result"
    }
   ],
   "source": [
    "key_words_list = ['contabilidade ambiental', 'balanço social', 'relato integrado', 'nbct 15']\n",
    "df = realizar_consulta(key_words_list)\n",
    "df.head()"
   ]
  },
  {
   "cell_type": "code",
   "execution_count": 23,
   "id": "71233ca3-6bf8-40f7-88e5-bc015740d7e4",
   "metadata": {},
   "outputs": [],
   "source": [
    "df.to_csv('../data/RCC.csv', index=False)"
   ]
  },
  {
   "cell_type": "code",
   "execution_count": 24,
   "id": "57e11bb8-3d23-4d86-b0b7-99e98da8b196",
   "metadata": {},
   "outputs": [
    {
     "data": {
      "text/html": [
       "<div>\n",
       "<style scoped>\n",
       "    .dataframe tbody tr th:only-of-type {\n",
       "        vertical-align: middle;\n",
       "    }\n",
       "\n",
       "    .dataframe tbody tr th {\n",
       "        vertical-align: top;\n",
       "    }\n",
       "\n",
       "    .dataframe thead th {\n",
       "        text-align: right;\n",
       "    }\n",
       "</style>\n",
       "<table border=\"1\" class=\"dataframe\">\n",
       "  <thead>\n",
       "    <tr style=\"text-align: right;\">\n",
       "      <th></th>\n",
       "      <th>Data de Publicação</th>\n",
       "      <th>Título</th>\n",
       "      <th>Resumo</th>\n",
       "      <th>Palavras-chave</th>\n",
       "      <th>Qtd. de Autores</th>\n",
       "      <th>Autor 1</th>\n",
       "      <th>Autor 2</th>\n",
       "      <th>Autor 3</th>\n",
       "      <th>Autor 4</th>\n",
       "      <th>Autor 5</th>\n",
       "      <th>Autor 6</th>\n",
       "      <th>Afilição 1</th>\n",
       "      <th>Afilição 2</th>\n",
       "      <th>Afilição 3</th>\n",
       "      <th>Afilição 4</th>\n",
       "      <th>Afilição 5</th>\n",
       "      <th>Afilição 6</th>\n",
       "      <th>Url Artigo</th>\n",
       "      <th>Revista</th>\n",
       "    </tr>\n",
       "  </thead>\n",
       "  <tbody>\n",
       "    <tr>\n",
       "      <th>0</th>\n",
       "      <td>2019-01-01</td>\n",
       "      <td>Revisão Bibliográfica do Perfil Temático e Met...</td>\n",
       "      <td>Levantamento efetuado na base Scopus demonstro...</td>\n",
       "      <td>Análises Bibliométricas. Divulgação Voluntária...</td>\n",
       "      <td>4</td>\n",
       "      <td>Aline Andrade Barbosa da Silva</td>\n",
       "      <td>Renata Orsato</td>\n",
       "      <td>Luciano Márcio Scherer</td>\n",
       "      <td>Márcia Maria dos Santos Bortolocci Espejo</td>\n",
       "      <td></td>\n",
       "      <td></td>\n",
       "      <td></td>\n",
       "      <td></td>\n",
       "      <td></td>\n",
       "      <td></td>\n",
       "      <td></td>\n",
       "      <td></td>\n",
       "      <td>https://revistas.ufpr.br/rcc/article/view/52350</td>\n",
       "      <td>Revista de Contabilidade e Controladoria – RC&amp;C</td>\n",
       "    </tr>\n",
       "    <tr>\n",
       "      <th>1</th>\n",
       "      <td>2019-01-01</td>\n",
       "      <td>DA BARRAGEM DE FUNDÃO À CONTABILIDADE: UMA ANÁ...</td>\n",
       "      <td>Em novembro de 2015 no município de Mariana, M...</td>\n",
       "      <td>Avaliação de Desempenho. Contabilidade Ambient...</td>\n",
       "      <td>1</td>\n",
       "      <td>Herberty Cerqueira Lima</td>\n",
       "      <td></td>\n",
       "      <td></td>\n",
       "      <td></td>\n",
       "      <td></td>\n",
       "      <td></td>\n",
       "      <td></td>\n",
       "      <td></td>\n",
       "      <td></td>\n",
       "      <td></td>\n",
       "      <td></td>\n",
       "      <td></td>\n",
       "      <td>https://revistas.ufpr.br/rcc/article/view/71041</td>\n",
       "      <td>Revista de Contabilidade e Controladoria – RC&amp;C</td>\n",
       "    </tr>\n",
       "    <tr>\n",
       "      <th>2</th>\n",
       "      <td>2013-01-01</td>\n",
       "      <td>UMA AVALIAÇÃO DOS EFEITOS DOS SISTEMAS DE INCE...</td>\n",
       "      <td>As organizações estão inseridas em um mercado ...</td>\n",
       "      <td>Desempenho econômico. Sistemas de incentivos. ...</td>\n",
       "      <td>5</td>\n",
       "      <td>Guillermina Tannuri</td>\n",
       "      <td>Sueli Farias</td>\n",
       "      <td>Ernesto Fernando Rodrigues Vicente</td>\n",
       "      <td>Hans Michael van Bellen</td>\n",
       "      <td>Luiz Alberton</td>\n",
       "      <td></td>\n",
       "      <td></td>\n",
       "      <td></td>\n",
       "      <td></td>\n",
       "      <td></td>\n",
       "      <td></td>\n",
       "      <td></td>\n",
       "      <td>https://revistas.ufpr.br/rcc/article/view/27292</td>\n",
       "      <td>Revista de Contabilidade e Controladoria – RC&amp;C</td>\n",
       "    </tr>\n",
       "  </tbody>\n",
       "</table>\n",
       "</div>"
      ],
      "text/plain": [
       "  Data de Publicação                                             Título  \\\n",
       "0         2019-01-01  Revisão Bibliográfica do Perfil Temático e Met...   \n",
       "1         2019-01-01  DA BARRAGEM DE FUNDÃO À CONTABILIDADE: UMA ANÁ...   \n",
       "2         2013-01-01  UMA AVALIAÇÃO DOS EFEITOS DOS SISTEMAS DE INCE...   \n",
       "\n",
       "                                              Resumo  \\\n",
       "0  Levantamento efetuado na base Scopus demonstro...   \n",
       "1  Em novembro de 2015 no município de Mariana, M...   \n",
       "2  As organizações estão inseridas em um mercado ...   \n",
       "\n",
       "                                      Palavras-chave  Qtd. de Autores  \\\n",
       "0  Análises Bibliométricas. Divulgação Voluntária...                4   \n",
       "1  Avaliação de Desempenho. Contabilidade Ambient...                1   \n",
       "2  Desempenho econômico. Sistemas de incentivos. ...                5   \n",
       "\n",
       "                          Autor 1        Autor 2  \\\n",
       "0  Aline Andrade Barbosa da Silva  Renata Orsato   \n",
       "1         Herberty Cerqueira Lima                  \n",
       "2             Guillermina Tannuri   Sueli Farias   \n",
       "\n",
       "                              Autor 3  \\\n",
       "0              Luciano Márcio Scherer   \n",
       "1                                       \n",
       "2  Ernesto Fernando Rodrigues Vicente   \n",
       "\n",
       "                                     Autor 4        Autor 5 Autor 6  \\\n",
       "0  Márcia Maria dos Santos Bortolocci Espejo                          \n",
       "1                                                                     \n",
       "2                    Hans Michael van Bellen  Luiz Alberton           \n",
       "\n",
       "  Afilição 1 Afilição 2 Afilição 3 Afilição 4 Afilição 5 Afilição 6  \\\n",
       "0                                                                     \n",
       "1                                                                     \n",
       "2                                                                     \n",
       "\n",
       "                                        Url Artigo  \\\n",
       "0  https://revistas.ufpr.br/rcc/article/view/52350   \n",
       "1  https://revistas.ufpr.br/rcc/article/view/71041   \n",
       "2  https://revistas.ufpr.br/rcc/article/view/27292   \n",
       "\n",
       "                                           Revista  \n",
       "0  Revista de Contabilidade e Controladoria – RC&C  \n",
       "1  Revista de Contabilidade e Controladoria – RC&C  \n",
       "2  Revista de Contabilidade e Controladoria – RC&C  "
      ]
     },
     "execution_count": 24,
     "metadata": {},
     "output_type": "execute_result"
    }
   ],
   "source": [
    "df"
   ]
  },
  {
   "cell_type": "code",
   "execution_count": null,
   "id": "4ba6bd49-1e54-4df3-9764-0e147eaf9291",
   "metadata": {},
   "outputs": [],
   "source": []
  }
 ],
 "metadata": {
  "kernelspec": {
   "display_name": "venv",
   "language": "python",
   "name": "venv"
  },
  "language_info": {
   "codemirror_mode": {
    "name": "ipython",
    "version": 3
   },
   "file_extension": ".py",
   "mimetype": "text/x-python",
   "name": "python",
   "nbconvert_exporter": "python",
   "pygments_lexer": "ipython3",
   "version": "3.10.4"
  }
 },
 "nbformat": 4,
 "nbformat_minor": 5
}
