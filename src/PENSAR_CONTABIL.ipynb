{
 "cells": [
  {
   "cell_type": "markdown",
   "id": "df30e26c-9abf-40af-b2b1-d70c2d6ea61f",
   "metadata": {
    "tags": []
   },
   "source": [
    "# Pensar Contábil"
   ]
  },
  {
   "cell_type": "markdown",
   "id": "fe988f18-e6fb-4503-8332-86692bc5bda6",
   "metadata": {},
   "source": [
    "## Bibliotecas importadas"
   ]
  },
  {
   "cell_type": "code",
   "execution_count": 1,
   "id": "dab4dd4a-872c-472d-b7f6-3993f94fb82a",
   "metadata": {},
   "outputs": [],
   "source": [
    "import requests\n",
    "from bs4 import BeautifulSoup\n",
    "\n",
    "import pandas as pd"
   ]
  },
  {
   "cell_type": "markdown",
   "id": "e99d241f-0c72-426a-abbe-00f36ce44e00",
   "metadata": {},
   "source": [
    "## Funções básicas"
   ]
  },
  {
   "cell_type": "code",
   "execution_count": 2,
   "id": "89c421a9-5768-4f88-9240-feba8e27f923",
   "metadata": {},
   "outputs": [],
   "source": [
    "def criar_query(key_word):\n",
    "    return \"+\".join(key_word.split())"
   ]
  },
  {
   "cell_type": "code",
   "execution_count": 3,
   "id": "eeb94304-948e-46e7-bf69-c7afc7fa701e",
   "metadata": {},
   "outputs": [],
   "source": [
    "def listar_links_pagina(url_search):\n",
    "    page = requests.get(url_search)\n",
    "    soup = BeautifulSoup(page.content, 'html.parser')\n",
    "    tbl_results = soup.find('table', {'class': 'listing'})\n",
    "    a_links = []\n",
    "    for a in tbl_results.find_all('a'):\n",
    "           if 'Resumo' in a.text:\n",
    "                a_links.append(a['href'])\n",
    "    return a_links\n",
    "\n"
   ]
  },
  {
   "cell_type": "code",
   "execution_count": 4,
   "id": "1882f580-dee2-4890-9b3f-847ab27e0218",
   "metadata": {},
   "outputs": [],
   "source": [
    "def listar_links(url_search_text, query, pg_num=1):\n",
    "    a_links = [] \n",
    "    while True:\n",
    "        url_search = url_search_text.replace('__query__', query).replace('__pg_num__', str(pg_num))\n",
    "        tmp = listar_links_pagina(url_search)\n",
    "        if len(tmp) != 0:\n",
    "            pg_num += 1\n",
    "            a_links += tmp\n",
    "        else:\n",
    "            break\n",
    "    return a_links\n",
    "\n"
   ]
  },
  {
   "cell_type": "code",
   "execution_count": 5,
   "id": "92473d42-e93c-4b3b-a548-61a5a9e89348",
   "metadata": {},
   "outputs": [
    {
     "data": {
      "text/plain": [
       "'http://www.atena.org.br/revista/ojs-2.2.3-06/index.php/pensarcontabil/article/view/3655'"
      ]
     },
     "execution_count": 5,
     "metadata": {},
     "output_type": "execute_result"
    }
   ],
   "source": [
    "url_search_text = 'http://www.atena.org.br/revista/ojs-2.2.3-06/index.php/pensarcontabil/search/advancedResults?query=__query__&searchJournal=&author=&title=&fullText=&supplementaryFiles=&discipline=&subject=&type=&coverage=&dateFromMonth=&dateFromDay=&dateFromYear=2012&dateToMonth=&dateToDay=&dateToYear=2021&searchPage=__pg_num__#results'\n",
    "\n",
    "links = listar_links(url_search_text, 'contabilidade+ambiental', pg_num=1)\n",
    "\n",
    "link = links[2]\n",
    "\n",
    "link"
   ]
  },
  {
   "cell_type": "code",
   "execution_count": 6,
   "id": "500da2bc-2215-4033-8450-c6b9b1025967",
   "metadata": {},
   "outputs": [
    {
     "data": {
      "text/plain": [
       "['http://www.atena.org.br/revista/ojs-2.2.3-06/index.php/pensarcontabil/article/view/2328',\n",
       " 'http://www.atena.org.br/revista/ojs-2.2.3-06/index.php/pensarcontabil/article/view/2380',\n",
       " 'http://www.atena.org.br/revista/ojs-2.2.3-06/index.php/pensarcontabil/article/view/3655',\n",
       " 'http://www.atena.org.br/revista/ojs-2.2.3-06/index.php/pensarcontabil/article/view/3630',\n",
       " 'http://www.atena.org.br/revista/ojs-2.2.3-06/index.php/pensarcontabil/article/view/2620']"
      ]
     },
     "execution_count": 6,
     "metadata": {},
     "output_type": "execute_result"
    }
   ],
   "source": [
    "links"
   ]
  },
  {
   "cell_type": "code",
   "execution_count": 7,
   "id": "e3d7e050-874e-4c78-adf8-11e600660e5d",
   "metadata": {},
   "outputs": [],
   "source": [
    "page = requests.get(link)\n",
    "soup = BeautifulSoup(page.content, 'html.parser')"
   ]
  },
  {
   "cell_type": "code",
   "execution_count": 8,
   "id": "505b1f20-e533-475b-99eb-b7c3e0f9f9a4",
   "metadata": {},
   "outputs": [],
   "source": [
    "def completar_lista(lista):\n",
    "    if len(lista) < 6:\n",
    "        lista += (6 - len(lista)) * ['']\n",
    "    return lista"
   ]
  },
  {
   "cell_type": "code",
   "execution_count": 9,
   "id": "380fbe5b-f745-404a-a766-62f9df21691e",
   "metadata": {},
   "outputs": [],
   "source": [
    "def captura_titulo(soup):\n",
    "    try:\n",
    "        title_tag = soup.find('div', {'id': 'content'})\n",
    "        title = title_tag.find('h3').text\n",
    "    except:\n",
    "        title = ''\n",
    "    return {'Título': title}"
   ]
  },
  {
   "cell_type": "code",
   "execution_count": 10,
   "id": "941d2c1d-7f08-4392-9ad0-8264aeeaeb0c",
   "metadata": {},
   "outputs": [
    {
     "data": {
      "text/plain": [
       "'Análise de Indicadores de Desempenho da Gestão Ambiental em Mineradoras no Brasil'"
      ]
     },
     "execution_count": 10,
     "metadata": {},
     "output_type": "execute_result"
    }
   ],
   "source": [
    "captura_titulo(soup)['Título']"
   ]
  },
  {
   "cell_type": "code",
   "execution_count": 11,
   "id": "50468f30-b4ce-4213-8579-4af8ee579376",
   "metadata": {},
   "outputs": [],
   "source": [
    "def captura_data(soup):\n",
    "    try:\n",
    "        year_tags = soup.find('div', {'id': 'breadcrumb'})\n",
    "        year_tag = year_tags.find_all('a')\n",
    "        year_text = year_tag[1].text\n",
    "        year = year_text[-5:-1]\n",
    "    except:\n",
    "        year = ''\n",
    "    return {'Data de Publicação': year}"
   ]
  },
  {
   "cell_type": "code",
   "execution_count": 12,
   "id": "57eb4e5c-7c12-493d-a7ff-fe18546124a4",
   "metadata": {},
   "outputs": [
    {
     "data": {
      "text/plain": [
       "{'Data de Publicação': '2021'}"
      ]
     },
     "execution_count": 12,
     "metadata": {},
     "output_type": "execute_result"
    }
   ],
   "source": [
    "captura_data(soup)"
   ]
  },
  {
   "cell_type": "code",
   "execution_count": 13,
   "id": "b230fedd-6d44-4a81-acf9-60e876529a31",
   "metadata": {},
   "outputs": [],
   "source": [
    "def captura_resumo(soup):\n",
    "    try:\n",
    "        content_tag = soup.find('div', {'id': 'content'})\n",
    "        divs = content_tag.find_all('div')\n",
    "        try:\n",
    "            ps = divs[3].find_all('p')\n",
    "            abstract_full = ps[2].text\n",
    "            abstract = abstract_full.replace('RESUMO', '')\n",
    "        except:\n",
    "            abstract = divs[3].text\n",
    "    except:\n",
    "        abstract = ''\n",
    "    return {'Resumo': abstract}"
   ]
  },
  {
   "cell_type": "code",
   "execution_count": 14,
   "id": "a4926c07-a786-44c1-956f-afb4b40c3b93",
   "metadata": {},
   "outputs": [
    {
     "data": {
      "text/plain": [
       "{'Resumo': 'O desenvolvimento sustentável é requisito fundamentalpara a sobrevivência humana e as empresas, como causadorasde impactos, necessitam se enquadrar em diversosaspectos a fim de evitar ou amenizar problemas ambientaise sociais. O setor de mineração é relevante para a economiabrasileira, mas acarreta sérios prejuízos ao meio ambiente,principalmente por sua rigidez locacional, e os impactos ealterações causados devem ser alvo de controle. Dessa forma,a presente pesquisa objetivou analisar os relatórios desustentabilidade das mineradoras do Brasil, por meio de indicadoresde desempenho da gestão ambiental, identificandoinformações contábeis voluntárias relevantes, utilizando indicadorespara mensurar o nível de evidenciação dessas informaçõese comparando os resultados dessas empresas nodecorrer dos anos. Concluiu-se que, por não ser obrigatório,a maioria das empresas não divulgam relatórios de sustentabilidadee aquelas que divulgam precisam melhorar bastanteseus níveis de evidenciação e passar a divulgar outras informações relevantes, ausentes nos anos estudados, a fim demelhorar a transparência de suas ações.'}"
      ]
     },
     "execution_count": 14,
     "metadata": {},
     "output_type": "execute_result"
    }
   ],
   "source": [
    "captura_resumo(soup)"
   ]
  },
  {
   "cell_type": "code",
   "execution_count": 15,
   "id": "f38caded-13c5-4c28-986d-f00660034281",
   "metadata": {},
   "outputs": [],
   "source": [
    "def captura_palavras_chave(soup):\n",
    "    content_tag = soup.find('div', {'id': 'content'})\n",
    "    divs = content_tag.find_all('div')\n",
    "    try:\n",
    "        ps = divs[3].find_all('p')\n",
    "        kw_full = ps[3].text\n",
    "        kw = kw_full.replace('Palavras-chave: ', '')\n",
    "        kw = kw.replace(',', '.').replace(';', '.')\n",
    "        kw = '. '.join([_.strip() for _ in kw.split('.')])\n",
    "    except:\n",
    "        kw = ''\n",
    "    return {'Palavras-chave': kw}"
   ]
  },
  {
   "cell_type": "code",
   "execution_count": 16,
   "id": "3110c7a4-a0ec-4dbb-bbe1-5071423053e5",
   "metadata": {},
   "outputs": [
    {
     "data": {
      "text/plain": [
       "{'Palavras-chave': 'Gestão Ambiental. Contabilidade. Mineração. Relatório de Sustentabilidade. '}"
      ]
     },
     "execution_count": 16,
     "metadata": {},
     "output_type": "execute_result"
    }
   ],
   "source": [
    "captura_palavras_chave(soup)"
   ]
  },
  {
   "cell_type": "code",
   "execution_count": 17,
   "id": "36367342-b031-4345-95a9-e843c9b3c5e9",
   "metadata": {},
   "outputs": [],
   "source": [
    "def captura_autores(soup):\n",
    "    autores = []\n",
    "    try:\n",
    "        content_tag = soup.find('div', {'id': 'content'})\n",
    "        divs = content_tag.find_all('div')\n",
    "        autores_full = divs[2].find('em')\n",
    "        autores = autores_full.text.split(', ')\n",
    "    except:\n",
    "        pass\n",
    "\n",
    "    qtd_autores = len(autores)\n",
    "    autores = completar_lista(autores)\n",
    "    autores = [qtd_autores] + autores\n",
    "    \n",
    "    key_autores = [f\"Autor {i}\" for i in range(1, 7)]\n",
    "    key_autores = ['Qtd. de Autores'] + key_autores\n",
    "\n",
    "    return dict(zip(key_autores, autores))"
   ]
  },
  {
   "cell_type": "code",
   "execution_count": 18,
   "id": "c41c3a65-5284-4eaa-8581-9faf76ece330",
   "metadata": {},
   "outputs": [
    {
     "data": {
      "text/plain": [
       "{'Qtd. de Autores': 4,\n",
       " 'Autor 1': 'Fernanda Beatriz Rolim Tavares',\n",
       " 'Autor 2': 'Cristiane Queiroz Reis',\n",
       " 'Autor 3': 'Janaina Ferreira Marques de Melo',\n",
       " 'Autor 4': 'Fabiano Batista Ferreira',\n",
       " 'Autor 5': '',\n",
       " 'Autor 6': ''}"
      ]
     },
     "execution_count": 18,
     "metadata": {},
     "output_type": "execute_result"
    }
   ],
   "source": [
    "captura_autores(soup)"
   ]
  },
  {
   "cell_type": "code",
   "execution_count": 19,
   "id": "2aa8fd49-3fe3-41fc-927f-bb933136d0e2",
   "metadata": {},
   "outputs": [],
   "source": [
    "def captura_afiliacao(soup):\n",
    "    affiliation_list = []\n",
    "    try:\n",
    "        authors_tag = soup.find_all('div', {'class': 'authorBio'})\n",
    "        for p in authors_tag:\n",
    "            try:\n",
    "                affiliation = p.find_all('br')[-2].next_sibling\n",
    "                affiliation = affiliation.replace('\\t', '')\n",
    "            except:\n",
    "                affiliation = ''\n",
    "            affiliation_list.append(affiliation)\n",
    "    except:\n",
    "        pass\n",
    "    affiliation_list = completar_lista(affiliation_list)\n",
    "    key_affiliation = [f\"Afilição {i}\" for i in range(1, 7)]\n",
    "\n",
    "    return dict(zip(key_affiliation, affiliation_list))"
   ]
  },
  {
   "cell_type": "code",
   "execution_count": 20,
   "id": "486c51d9-ce0b-4730-9a96-7bf68c955ae5",
   "metadata": {},
   "outputs": [
    {
     "data": {
      "text/plain": [
       "{'Afilição 1': '',\n",
       " 'Afilição 2': '',\n",
       " 'Afilição 3': '',\n",
       " 'Afilição 4': '',\n",
       " 'Afilição 5': '',\n",
       " 'Afilição 6': ''}"
      ]
     },
     "execution_count": 20,
     "metadata": {},
     "output_type": "execute_result"
    }
   ],
   "source": [
    "captura_afiliacao(soup)"
   ]
  },
  {
   "cell_type": "code",
   "execution_count": 21,
   "id": "7e8194b3-a261-43b5-aaf5-1510ee1d1b50",
   "metadata": {},
   "outputs": [],
   "source": [
    "def realizar_consulta(key_words_list):\n",
    "    periodico_nome_dict = {'Revista': 'Pensar Contábil'}\n",
    "    url_search_text = 'http://www.atena.org.br/revista/ojs-2.2.3-06/index.php/pensarcontabil/search/advancedResults?query=__query__&searchJournal=&author=&title=&fullText=&supplementaryFiles=&discipline=&subject=&type=&coverage=&dateFromMonth=&dateFromDay=&dateFromYear=2012&dateToMonth=&dateToDay=&dateToYear=2021&searchPage=__pg_num__#results'\n",
    "\n",
    "    a_links = []\n",
    "    for key_word in key_words_list:\n",
    "        query = criar_query(key_word)\n",
    "        a_links += listar_links(url_search_text, query)\n",
    "        \n",
    "    resultados = []\n",
    "    for link in a_links:\n",
    "        link_dict = {'Url Artigo': link}\n",
    "        page = requests.get(link)\n",
    "        soup = BeautifulSoup(page.content, 'html.parser')\n",
    "        \n",
    "        if 'Pré-textual' in captura_titulo(soup)['Título'] or 'CAP Accounting and Management' in captura_titulo(soup)['Título']:\n",
    "            continue\n",
    "            \n",
    "        dict_artigo = {\n",
    "            **captura_data(soup),\n",
    "            **captura_titulo(soup),\n",
    "            **captura_resumo(soup),\n",
    "            **captura_palavras_chave(soup),\n",
    "            **captura_autores(soup),\n",
    "            **captura_afiliacao(soup),\n",
    "            **link_dict,\n",
    "            **periodico_nome_dict\n",
    "        }\n",
    "        resultados.append(dict_artigo)\n",
    "    df = pd.DataFrame(resultados)\n",
    "    df['Data de Publicação'] = pd.to_datetime(df['Data de Publicação'], format='%Y')\n",
    "    return df"
   ]
  },
  {
   "cell_type": "markdown",
   "id": "2b0abfd7-a392-42f5-a377-7b0db2717e3f",
   "metadata": {},
   "source": [
    "## Pesquisa por artigos"
   ]
  },
  {
   "cell_type": "code",
   "execution_count": 22,
   "id": "3fcf8092-c93f-4fb4-8624-8793be02c073",
   "metadata": {},
   "outputs": [
    {
     "data": {
      "text/html": [
       "<div>\n",
       "<style scoped>\n",
       "    .dataframe tbody tr th:only-of-type {\n",
       "        vertical-align: middle;\n",
       "    }\n",
       "\n",
       "    .dataframe tbody tr th {\n",
       "        vertical-align: top;\n",
       "    }\n",
       "\n",
       "    .dataframe thead th {\n",
       "        text-align: right;\n",
       "    }\n",
       "</style>\n",
       "<table border=\"1\" class=\"dataframe\">\n",
       "  <thead>\n",
       "    <tr style=\"text-align: right;\">\n",
       "      <th></th>\n",
       "      <th>Data de Publicação</th>\n",
       "      <th>Título</th>\n",
       "      <th>Resumo</th>\n",
       "      <th>Palavras-chave</th>\n",
       "      <th>Qtd. de Autores</th>\n",
       "      <th>Autor 1</th>\n",
       "      <th>Autor 2</th>\n",
       "      <th>Autor 3</th>\n",
       "      <th>Autor 4</th>\n",
       "      <th>Autor 5</th>\n",
       "      <th>Autor 6</th>\n",
       "      <th>Afilição 1</th>\n",
       "      <th>Afilição 2</th>\n",
       "      <th>Afilição 3</th>\n",
       "      <th>Afilição 4</th>\n",
       "      <th>Afilição 5</th>\n",
       "      <th>Afilição 6</th>\n",
       "      <th>Url Artigo</th>\n",
       "      <th>Revista</th>\n",
       "    </tr>\n",
       "  </thead>\n",
       "  <tbody>\n",
       "    <tr>\n",
       "      <th>0</th>\n",
       "      <td>2004-01-01</td>\n",
       "      <td>A Contabilidade e sua Responsabilidade Social ...</td>\n",
       "      <td>Aborda sobre o ambiente como estratégia empres...</td>\n",
       "      <td></td>\n",
       "      <td>1</td>\n",
       "      <td>Maria Elisabeth Pereira Kraemer</td>\n",
       "      <td></td>\n",
       "      <td></td>\n",
       "      <td></td>\n",
       "      <td></td>\n",
       "      <td></td>\n",
       "      <td></td>\n",
       "      <td></td>\n",
       "      <td></td>\n",
       "      <td></td>\n",
       "      <td></td>\n",
       "      <td></td>\n",
       "      <td>http://www.atena.org.br/revista/ojs-2.2.3-06/i...</td>\n",
       "      <td>Pensar Contábil</td>\n",
       "    </tr>\n",
       "    <tr>\n",
       "      <th>1</th>\n",
       "      <td>2002-01-01</td>\n",
       "      <td>Progressos no campo da Contabilidade aplicada ...</td>\n",
       "      <td>Discorre sobre a obrigatoriedade de contas esp...</td>\n",
       "      <td></td>\n",
       "      <td>1</td>\n",
       "      <td>Antônio Lopes de Sá</td>\n",
       "      <td></td>\n",
       "      <td></td>\n",
       "      <td></td>\n",
       "      <td></td>\n",
       "      <td></td>\n",
       "      <td></td>\n",
       "      <td></td>\n",
       "      <td></td>\n",
       "      <td></td>\n",
       "      <td></td>\n",
       "      <td></td>\n",
       "      <td>http://www.atena.org.br/revista/ojs-2.2.3-06/i...</td>\n",
       "      <td>Pensar Contábil</td>\n",
       "    </tr>\n",
       "    <tr>\n",
       "      <th>2</th>\n",
       "      <td>2021-01-01</td>\n",
       "      <td>Análise de Indicadores de Desempenho da Gestão...</td>\n",
       "      <td>O desenvolvimento sustentável é requisito fund...</td>\n",
       "      <td>Gestão Ambiental. Contabilidade. Mineração. Re...</td>\n",
       "      <td>4</td>\n",
       "      <td>Fernanda Beatriz Rolim Tavares</td>\n",
       "      <td>Cristiane Queiroz Reis</td>\n",
       "      <td>Janaina Ferreira Marques de Melo</td>\n",
       "      <td>Fabiano Batista Ferreira</td>\n",
       "      <td></td>\n",
       "      <td></td>\n",
       "      <td></td>\n",
       "      <td></td>\n",
       "      <td></td>\n",
       "      <td></td>\n",
       "      <td></td>\n",
       "      <td></td>\n",
       "      <td>http://www.atena.org.br/revista/ojs-2.2.3-06/i...</td>\n",
       "      <td>Pensar Contábil</td>\n",
       "    </tr>\n",
       "  </tbody>\n",
       "</table>\n",
       "</div>"
      ],
      "text/plain": [
       "  Data de Publicação                                             Título  \\\n",
       "0         2004-01-01  A Contabilidade e sua Responsabilidade Social ...   \n",
       "1         2002-01-01  Progressos no campo da Contabilidade aplicada ...   \n",
       "2         2021-01-01  Análise de Indicadores de Desempenho da Gestão...   \n",
       "\n",
       "                                              Resumo  \\\n",
       "0  Aborda sobre o ambiente como estratégia empres...   \n",
       "1  Discorre sobre a obrigatoriedade de contas esp...   \n",
       "2  O desenvolvimento sustentável é requisito fund...   \n",
       "\n",
       "                                      Palavras-chave  Qtd. de Autores  \\\n",
       "0                                                                   1   \n",
       "1                                                                   1   \n",
       "2  Gestão Ambiental. Contabilidade. Mineração. Re...                4   \n",
       "\n",
       "                           Autor 1                 Autor 2  \\\n",
       "0  Maria Elisabeth Pereira Kraemer                           \n",
       "1              Antônio Lopes de Sá                           \n",
       "2   Fernanda Beatriz Rolim Tavares  Cristiane Queiroz Reis   \n",
       "\n",
       "                            Autor 3                   Autor 4 Autor 5 Autor 6  \\\n",
       "0                                                                               \n",
       "1                                                                               \n",
       "2  Janaina Ferreira Marques de Melo  Fabiano Batista Ferreira                   \n",
       "\n",
       "  Afilição 1 Afilição 2 Afilição 3 Afilição 4 Afilição 5 Afilição 6  \\\n",
       "0                                                                     \n",
       "1                                                                     \n",
       "2                                                                     \n",
       "\n",
       "                                          Url Artigo          Revista  \n",
       "0  http://www.atena.org.br/revista/ojs-2.2.3-06/i...  Pensar Contábil  \n",
       "1  http://www.atena.org.br/revista/ojs-2.2.3-06/i...  Pensar Contábil  \n",
       "2  http://www.atena.org.br/revista/ojs-2.2.3-06/i...  Pensar Contábil  "
      ]
     },
     "execution_count": 22,
     "metadata": {},
     "output_type": "execute_result"
    }
   ],
   "source": [
    "key_words_list = ['contabilidade ambiental', 'balanço social', 'relato integrado', 'nbct 15']\n",
    "df = realizar_consulta(key_words_list)\n",
    "df.head(3)"
   ]
  },
  {
   "cell_type": "code",
   "execution_count": 23,
   "id": "71233ca3-6bf8-40f7-88e5-bc015740d7e4",
   "metadata": {},
   "outputs": [],
   "source": [
    "df.to_csv('../data/PENSAR_CONTABIL.csv', index=False)"
   ]
  },
  {
   "cell_type": "code",
   "execution_count": 24,
   "id": "57e11bb8-3d23-4d86-b0b7-99e98da8b196",
   "metadata": {},
   "outputs": [
    {
     "data": {
      "text/html": [
       "<div>\n",
       "<style scoped>\n",
       "    .dataframe tbody tr th:only-of-type {\n",
       "        vertical-align: middle;\n",
       "    }\n",
       "\n",
       "    .dataframe tbody tr th {\n",
       "        vertical-align: top;\n",
       "    }\n",
       "\n",
       "    .dataframe thead th {\n",
       "        text-align: right;\n",
       "    }\n",
       "</style>\n",
       "<table border=\"1\" class=\"dataframe\">\n",
       "  <thead>\n",
       "    <tr style=\"text-align: right;\">\n",
       "      <th></th>\n",
       "      <th>Data de Publicação</th>\n",
       "      <th>Título</th>\n",
       "      <th>Resumo</th>\n",
       "      <th>Palavras-chave</th>\n",
       "      <th>Qtd. de Autores</th>\n",
       "      <th>Autor 1</th>\n",
       "      <th>Autor 2</th>\n",
       "      <th>Autor 3</th>\n",
       "      <th>Autor 4</th>\n",
       "      <th>Autor 5</th>\n",
       "      <th>Autor 6</th>\n",
       "      <th>Afilição 1</th>\n",
       "      <th>Afilição 2</th>\n",
       "      <th>Afilição 3</th>\n",
       "      <th>Afilição 4</th>\n",
       "      <th>Afilição 5</th>\n",
       "      <th>Afilição 6</th>\n",
       "      <th>Url Artigo</th>\n",
       "      <th>Revista</th>\n",
       "    </tr>\n",
       "  </thead>\n",
       "  <tbody>\n",
       "    <tr>\n",
       "      <th>0</th>\n",
       "      <td>2004-01-01</td>\n",
       "      <td>A Contabilidade e sua Responsabilidade Social ...</td>\n",
       "      <td>Aborda sobre o ambiente como estratégia empres...</td>\n",
       "      <td></td>\n",
       "      <td>1</td>\n",
       "      <td>Maria Elisabeth Pereira Kraemer</td>\n",
       "      <td></td>\n",
       "      <td></td>\n",
       "      <td></td>\n",
       "      <td></td>\n",
       "      <td></td>\n",
       "      <td></td>\n",
       "      <td></td>\n",
       "      <td></td>\n",
       "      <td></td>\n",
       "      <td></td>\n",
       "      <td></td>\n",
       "      <td>http://www.atena.org.br/revista/ojs-2.2.3-06/i...</td>\n",
       "      <td>Pensar Contábil</td>\n",
       "    </tr>\n",
       "    <tr>\n",
       "      <th>1</th>\n",
       "      <td>2002-01-01</td>\n",
       "      <td>Progressos no campo da Contabilidade aplicada ...</td>\n",
       "      <td>Discorre sobre a obrigatoriedade de contas esp...</td>\n",
       "      <td></td>\n",
       "      <td>1</td>\n",
       "      <td>Antônio Lopes de Sá</td>\n",
       "      <td></td>\n",
       "      <td></td>\n",
       "      <td></td>\n",
       "      <td></td>\n",
       "      <td></td>\n",
       "      <td></td>\n",
       "      <td></td>\n",
       "      <td></td>\n",
       "      <td></td>\n",
       "      <td></td>\n",
       "      <td></td>\n",
       "      <td>http://www.atena.org.br/revista/ojs-2.2.3-06/i...</td>\n",
       "      <td>Pensar Contábil</td>\n",
       "    </tr>\n",
       "    <tr>\n",
       "      <th>2</th>\n",
       "      <td>2021-01-01</td>\n",
       "      <td>Análise de Indicadores de Desempenho da Gestão...</td>\n",
       "      <td>O desenvolvimento sustentável é requisito fund...</td>\n",
       "      <td>Gestão Ambiental. Contabilidade. Mineração. Re...</td>\n",
       "      <td>4</td>\n",
       "      <td>Fernanda Beatriz Rolim Tavares</td>\n",
       "      <td>Cristiane Queiroz Reis</td>\n",
       "      <td>Janaina Ferreira Marques de Melo</td>\n",
       "      <td>Fabiano Batista Ferreira</td>\n",
       "      <td></td>\n",
       "      <td></td>\n",
       "      <td></td>\n",
       "      <td></td>\n",
       "      <td></td>\n",
       "      <td></td>\n",
       "      <td></td>\n",
       "      <td></td>\n",
       "      <td>http://www.atena.org.br/revista/ojs-2.2.3-06/i...</td>\n",
       "      <td>Pensar Contábil</td>\n",
       "    </tr>\n",
       "    <tr>\n",
       "      <th>3</th>\n",
       "      <td>2021-01-01</td>\n",
       "      <td>ESG, Impactos Ambientais e Contabilidade</td>\n",
       "      <td>A Agenda ESG (environmental, social and govern...</td>\n",
       "      <td>ESG. Sustentabilidade. ImpactosAmbientais. Tra...</td>\n",
       "      <td>1</td>\n",
       "      <td>Sebastião Bergamini Junior</td>\n",
       "      <td></td>\n",
       "      <td></td>\n",
       "      <td></td>\n",
       "      <td></td>\n",
       "      <td></td>\n",
       "      <td></td>\n",
       "      <td></td>\n",
       "      <td></td>\n",
       "      <td></td>\n",
       "      <td></td>\n",
       "      <td></td>\n",
       "      <td>http://www.atena.org.br/revista/ojs-2.2.3-06/i...</td>\n",
       "      <td>Pensar Contábil</td>\n",
       "    </tr>\n",
       "    <tr>\n",
       "      <th>4</th>\n",
       "      <td>2015-01-01</td>\n",
       "      <td>Heritage Assets no Brasil:  um Estudo de Caso ...</td>\n",
       "      <td>Resumo Analisaram-se as principais normas inte...</td>\n",
       "      <td></td>\n",
       "      <td>3</td>\n",
       "      <td>Esdras Carlos de Santana</td>\n",
       "      <td>Alex Sandro de Oliveira Barbosa</td>\n",
       "      <td>Larissa Gomes de Oliveira</td>\n",
       "      <td></td>\n",
       "      <td></td>\n",
       "      <td></td>\n",
       "      <td></td>\n",
       "      <td></td>\n",
       "      <td></td>\n",
       "      <td></td>\n",
       "      <td></td>\n",
       "      <td></td>\n",
       "      <td>http://www.atena.org.br/revista/ojs-2.2.3-06/i...</td>\n",
       "      <td>Pensar Contábil</td>\n",
       "    </tr>\n",
       "    <tr>\n",
       "      <th>5</th>\n",
       "      <td>2012-01-01</td>\n",
       "      <td>Importância do Balanço Social para as Entidade...</td>\n",
       "      <td>Key words: Social Report. Third Sector. Manage...</td>\n",
       "      <td></td>\n",
       "      <td>4</td>\n",
       "      <td>Roberto Carlos Klann</td>\n",
       "      <td>Jorge Eduardo Scarpin</td>\n",
       "      <td>Silene Rengel</td>\n",
       "      <td>Paulo Roberto da Cunha</td>\n",
       "      <td></td>\n",
       "      <td></td>\n",
       "      <td></td>\n",
       "      <td></td>\n",
       "      <td></td>\n",
       "      <td></td>\n",
       "      <td></td>\n",
       "      <td></td>\n",
       "      <td>http://www.atena.org.br/revista/ojs-2.2.3-06/i...</td>\n",
       "      <td>Pensar Contábil</td>\n",
       "    </tr>\n",
       "    <tr>\n",
       "      <th>6</th>\n",
       "      <td>2015-01-01</td>\n",
       "      <td>Adesão dos balanços sociais publicados pelos C...</td>\n",
       "      <td></td>\n",
       "      <td></td>\n",
       "      <td>4</td>\n",
       "      <td>Bruna Januário dos Santos</td>\n",
       "      <td>Denize Demarche Minatti Ferreira</td>\n",
       "      <td>Lisiane Adriana Martins</td>\n",
       "      <td>Luiz Felipe Ferreira</td>\n",
       "      <td></td>\n",
       "      <td></td>\n",
       "      <td></td>\n",
       "      <td></td>\n",
       "      <td></td>\n",
       "      <td></td>\n",
       "      <td></td>\n",
       "      <td></td>\n",
       "      <td>http://www.atena.org.br/revista/ojs-2.2.3-06/i...</td>\n",
       "      <td>Pensar Contábil</td>\n",
       "    </tr>\n",
       "    <tr>\n",
       "      <th>7</th>\n",
       "      <td>2005-01-01</td>\n",
       "      <td>DEMONSTRAÇÃO DO VALOR ADICIONADO: A IMPORTÂNCI...</td>\n",
       "      <td>ABSTRACTThis article lifted foundations for re...</td>\n",
       "      <td>Key words: Added Value. Transparency. Social R...</td>\n",
       "      <td>3</td>\n",
       "      <td>Valter Roberto da Silva</td>\n",
       "      <td>Marcelo Erédia de Souza</td>\n",
       "      <td>Esliane Carecho B. Silva</td>\n",
       "      <td></td>\n",
       "      <td></td>\n",
       "      <td></td>\n",
       "      <td></td>\n",
       "      <td></td>\n",
       "      <td></td>\n",
       "      <td></td>\n",
       "      <td></td>\n",
       "      <td></td>\n",
       "      <td>http://www.atena.org.br/revista/ojs-2.2.3-06/i...</td>\n",
       "      <td>Pensar Contábil</td>\n",
       "    </tr>\n",
       "    <tr>\n",
       "      <th>8</th>\n",
       "      <td>2015-01-01</td>\n",
       "      <td>Adesão dos balanços sociais publicados pelos C...</td>\n",
       "      <td></td>\n",
       "      <td></td>\n",
       "      <td>4</td>\n",
       "      <td>Bruna Januário dos Santos</td>\n",
       "      <td>Denize Demarche Minatti Ferreira</td>\n",
       "      <td>Lisiane Adriana Martins</td>\n",
       "      <td>Luiz Felipe Ferreira</td>\n",
       "      <td></td>\n",
       "      <td></td>\n",
       "      <td></td>\n",
       "      <td></td>\n",
       "      <td></td>\n",
       "      <td></td>\n",
       "      <td></td>\n",
       "      <td></td>\n",
       "      <td>http://www.atena.org.br/revista/ojs-2.2.3-06/i...</td>\n",
       "      <td>Pensar Contábil</td>\n",
       "    </tr>\n",
       "  </tbody>\n",
       "</table>\n",
       "</div>"
      ],
      "text/plain": [
       "  Data de Publicação                                             Título  \\\n",
       "0         2004-01-01  A Contabilidade e sua Responsabilidade Social ...   \n",
       "1         2002-01-01  Progressos no campo da Contabilidade aplicada ...   \n",
       "2         2021-01-01  Análise de Indicadores de Desempenho da Gestão...   \n",
       "3         2021-01-01           ESG, Impactos Ambientais e Contabilidade   \n",
       "4         2015-01-01  Heritage Assets no Brasil:  um Estudo de Caso ...   \n",
       "5         2012-01-01  Importância do Balanço Social para as Entidade...   \n",
       "6         2015-01-01  Adesão dos balanços sociais publicados pelos C...   \n",
       "7         2005-01-01  DEMONSTRAÇÃO DO VALOR ADICIONADO: A IMPORTÂNCI...   \n",
       "8         2015-01-01  Adesão dos balanços sociais publicados pelos C...   \n",
       "\n",
       "                                              Resumo  \\\n",
       "0  Aborda sobre o ambiente como estratégia empres...   \n",
       "1  Discorre sobre a obrigatoriedade de contas esp...   \n",
       "2  O desenvolvimento sustentável é requisito fund...   \n",
       "3  A Agenda ESG (environmental, social and govern...   \n",
       "4  Resumo Analisaram-se as principais normas inte...   \n",
       "5  Key words: Social Report. Third Sector. Manage...   \n",
       "6                                                      \n",
       "7  ABSTRACTThis article lifted foundations for re...   \n",
       "8                                                      \n",
       "\n",
       "                                      Palavras-chave  Qtd. de Autores  \\\n",
       "0                                                                   1   \n",
       "1                                                                   1   \n",
       "2  Gestão Ambiental. Contabilidade. Mineração. Re...                4   \n",
       "3  ESG. Sustentabilidade. ImpactosAmbientais. Tra...                1   \n",
       "4                                                                   3   \n",
       "5                                                                   4   \n",
       "6                                                                   4   \n",
       "7  Key words: Added Value. Transparency. Social R...                3   \n",
       "8                                                                   4   \n",
       "\n",
       "                           Autor 1                           Autor 2  \\\n",
       "0  Maria Elisabeth Pereira Kraemer                                     \n",
       "1              Antônio Lopes de Sá                                     \n",
       "2   Fernanda Beatriz Rolim Tavares            Cristiane Queiroz Reis   \n",
       "3       Sebastião Bergamini Junior                                     \n",
       "4         Esdras Carlos de Santana   Alex Sandro de Oliveira Barbosa   \n",
       "5             Roberto Carlos Klann             Jorge Eduardo Scarpin   \n",
       "6        Bruna Januário dos Santos  Denize Demarche Minatti Ferreira   \n",
       "7          Valter Roberto da Silva           Marcelo Erédia de Souza   \n",
       "8        Bruna Januário dos Santos  Denize Demarche Minatti Ferreira   \n",
       "\n",
       "                            Autor 3                   Autor 4 Autor 5 Autor 6  \\\n",
       "0                                                                               \n",
       "1                                                                               \n",
       "2  Janaina Ferreira Marques de Melo  Fabiano Batista Ferreira                   \n",
       "3                                                                               \n",
       "4         Larissa Gomes de Oliveira                                             \n",
       "5                     Silene Rengel    Paulo Roberto da Cunha                   \n",
       "6           Lisiane Adriana Martins      Luiz Felipe Ferreira                   \n",
       "7          Esliane Carecho B. Silva                                             \n",
       "8           Lisiane Adriana Martins      Luiz Felipe Ferreira                   \n",
       "\n",
       "  Afilição 1 Afilição 2 Afilição 3 Afilição 4 Afilição 5 Afilição 6  \\\n",
       "0                                                                     \n",
       "1                                                                     \n",
       "2                                                                     \n",
       "3                                                                     \n",
       "4                                                                     \n",
       "5                                                                     \n",
       "6                                                                     \n",
       "7                                                                     \n",
       "8                                                                     \n",
       "\n",
       "                                          Url Artigo          Revista  \n",
       "0  http://www.atena.org.br/revista/ojs-2.2.3-06/i...  Pensar Contábil  \n",
       "1  http://www.atena.org.br/revista/ojs-2.2.3-06/i...  Pensar Contábil  \n",
       "2  http://www.atena.org.br/revista/ojs-2.2.3-06/i...  Pensar Contábil  \n",
       "3  http://www.atena.org.br/revista/ojs-2.2.3-06/i...  Pensar Contábil  \n",
       "4  http://www.atena.org.br/revista/ojs-2.2.3-06/i...  Pensar Contábil  \n",
       "5  http://www.atena.org.br/revista/ojs-2.2.3-06/i...  Pensar Contábil  \n",
       "6  http://www.atena.org.br/revista/ojs-2.2.3-06/i...  Pensar Contábil  \n",
       "7  http://www.atena.org.br/revista/ojs-2.2.3-06/i...  Pensar Contábil  \n",
       "8  http://www.atena.org.br/revista/ojs-2.2.3-06/i...  Pensar Contábil  "
      ]
     },
     "execution_count": 24,
     "metadata": {},
     "output_type": "execute_result"
    }
   ],
   "source": [
    "df"
   ]
  },
  {
   "cell_type": "code",
   "execution_count": null,
   "id": "4ba6bd49-1e54-4df3-9764-0e147eaf9291",
   "metadata": {},
   "outputs": [],
   "source": []
  }
 ],
 "metadata": {
  "kernelspec": {
   "display_name": "venv",
   "language": "python",
   "name": "venv"
  },
  "language_info": {
   "codemirror_mode": {
    "name": "ipython",
    "version": 3
   },
   "file_extension": ".py",
   "mimetype": "text/x-python",
   "name": "python",
   "nbconvert_exporter": "python",
   "pygments_lexer": "ipython3",
   "version": "3.10.4"
  }
 },
 "nbformat": 4,
 "nbformat_minor": 5
}
