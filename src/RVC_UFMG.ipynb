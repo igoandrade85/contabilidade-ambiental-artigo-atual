{
 "cells": [
  {
   "cell_type": "markdown",
   "id": "df30e26c-9abf-40af-b2b1-d70c2d6ea61f",
   "metadata": {
    "tags": []
   },
   "source": [
    "# Contabilidade Vista & Revista"
   ]
  },
  {
   "cell_type": "markdown",
   "id": "fe988f18-e6fb-4503-8332-86692bc5bda6",
   "metadata": {},
   "source": [
    "## Bibliotecas importadas"
   ]
  },
  {
   "cell_type": "code",
   "execution_count": 1,
   "id": "dab4dd4a-872c-472d-b7f6-3993f94fb82a",
   "metadata": {},
   "outputs": [],
   "source": [
    "import requests\n",
    "from bs4 import BeautifulSoup\n",
    "\n",
    "import pandas as pd"
   ]
  },
  {
   "cell_type": "markdown",
   "id": "e99d241f-0c72-426a-abbe-00f36ce44e00",
   "metadata": {
    "tags": []
   },
   "source": [
    "## Funções básicas"
   ]
  },
  {
   "cell_type": "code",
   "execution_count": 2,
   "id": "89c421a9-5768-4f88-9240-feba8e27f923",
   "metadata": {},
   "outputs": [],
   "source": [
    "def criar_query(key_word):\n",
    "    return \"+\".join(key_word.split())"
   ]
  },
  {
   "cell_type": "code",
   "execution_count": 3,
   "id": "eeb94304-948e-46e7-bf69-c7afc7fa701e",
   "metadata": {},
   "outputs": [],
   "source": [
    "def listar_links_pagina(url_search):\n",
    "    page = requests.get(url_search)\n",
    "    soup = BeautifulSoup(page.content, 'html.parser')\n",
    "    results = soup.find_all('h2', {'class': 'title'})\n",
    "    a_links = []\n",
    "    for item in results:\n",
    "        try:\n",
    "            remover_links = 'editorial' in item.find('a').text.lower()\n",
    "            remover_links = remover_links or 'folha de rosto' in item.find('a').text.lower()\n",
    "            remover_links = remover_links or 'dados da edição ' in item.find('a').text.lower()\n",
    "            if not remover_links:\n",
    "                a_links.append(item.find('a')['href'])\n",
    "        except:\n",
    "            pass\n",
    "    return a_links"
   ]
  },
  {
   "cell_type": "code",
   "execution_count": 4,
   "id": "1882f580-dee2-4890-9b3f-847ab27e0218",
   "metadata": {},
   "outputs": [],
   "source": [
    "def listar_links(url_search_text, query, pg_num=1):\n",
    "    a_links = [] \n",
    "    while True:\n",
    "        url_search = url_search_text.replace('__query__', query).replace('__pg_num__', str(pg_num))\n",
    "        tmp = listar_links_pagina(url_search)\n",
    "        if len(tmp) != 0:\n",
    "            pg_num += 1\n",
    "            a_links += tmp\n",
    "        else:\n",
    "            break\n",
    "    return a_links"
   ]
  },
  {
   "cell_type": "code",
   "execution_count": 5,
   "id": "7097f95b-7729-4e9e-9f2c-f576f603f890",
   "metadata": {},
   "outputs": [
    {
     "data": {
      "text/plain": [
       "'https://revistas.face.ufmg.br/index.php/contabilidadevistaerevista/article/view/1780'"
      ]
     },
     "execution_count": 5,
     "metadata": {},
     "output_type": "execute_result"
    }
   ],
   "source": [
    "url_search_text = 'https://revistas.face.ufmg.br/index.php/contabilidadevistaerevista/search/search?query=__query__&searchJournal=1&authors=&title=&abstract=&galleyFullText=&discipline=&subject=&type=&coverage=&indexTerms=&dateFromMonth=&dateFromDay=&dateFromYear=2012&dateToMonth=&dateToDay=&dateToYear=2021&orderBy=score&orderDir=desc&searchPage=__pg_num__#results'\n",
    "\n",
    "links = listar_links(url_search_text, 'contabilidade+ambiental', pg_num=1)\n",
    "\n",
    "link = links[0]\n",
    "\n",
    "link\n"
   ]
  },
  {
   "cell_type": "code",
   "execution_count": 6,
   "id": "1fc03e9e-fe26-475c-af90-9c492611a1fd",
   "metadata": {},
   "outputs": [
    {
     "data": {
      "text/plain": [
       "['https://revistas.face.ufmg.br/index.php/contabilidadevistaerevista/article/view/1780',\n",
       " 'https://revistas.face.ufmg.br/index.php/contabilidadevistaerevista/article/view/5162',\n",
       " 'https://revistas.face.ufmg.br/index.php/contabilidadevistaerevista/article/view/3401',\n",
       " 'https://revistas.face.ufmg.br/index.php/contabilidadevistaerevista/article/view/1828',\n",
       " 'https://revistas.face.ufmg.br/index.php/contabilidadevistaerevista/article/view/3173',\n",
       " 'https://revistas.face.ufmg.br/index.php/contabilidadevistaerevista/article/view/5276',\n",
       " 'https://revistas.face.ufmg.br/index.php/contabilidadevistaerevista/article/view/1727']"
      ]
     },
     "execution_count": 6,
     "metadata": {},
     "output_type": "execute_result"
    }
   ],
   "source": [
    "links"
   ]
  },
  {
   "cell_type": "code",
   "execution_count": 7,
   "id": "7d2cc608-dc86-4bad-80d4-8a91e9539c80",
   "metadata": {},
   "outputs": [],
   "source": [
    "page = requests.get(link)\n",
    "soup = BeautifulSoup(page.content, 'html.parser')"
   ]
  },
  {
   "cell_type": "code",
   "execution_count": 8,
   "id": "505b1f20-e533-475b-99eb-b7c3e0f9f9a4",
   "metadata": {},
   "outputs": [],
   "source": [
    "def completar_lista(lista):\n",
    "    if len(lista) < 6:\n",
    "        lista += (6 - len(lista)) * ['']\n",
    "    return lista"
   ]
  },
  {
   "cell_type": "code",
   "execution_count": 9,
   "id": "9ac33966-ef09-4334-87c1-a5b1f64061a7",
   "metadata": {},
   "outputs": [],
   "source": [
    "def limpar_afiliacao(afiliacao):\n",
    "    afiliacao = ' '.join(afiliacao.split())\n",
    "    afiliacao = afiliacao.split(',')[0]\n",
    "    afiliacao = afiliacao.split(' - ')[0]\n",
    "    afiliacao = afiliacao.split('(')[0]\n",
    "    afiliacao = afiliacao.split('/')[0]\n",
    "    return afiliacao.strip()"
   ]
  },
  {
   "cell_type": "code",
   "execution_count": 10,
   "id": "380fbe5b-f745-404a-a766-62f9df21691e",
   "metadata": {},
   "outputs": [],
   "source": [
    "def captura_titulo(soup):\n",
    "    try:\n",
    "        title = soup.find('h1', {'class': 'page_title'}).text\n",
    "        title = ' '.join(title.split())\n",
    "    except:\n",
    "        title = ''\n",
    "    return {'Título': title}"
   ]
  },
  {
   "cell_type": "code",
   "execution_count": 11,
   "id": "d5b5e5d4-8e31-433d-a031-d56624420ff1",
   "metadata": {},
   "outputs": [
    {
     "data": {
      "text/plain": [
       "{'Título': 'A EVOLUÇÃO DOS RELATÓRIOS DE SUSTENTABILIDADE DE EMPRESAS BRASILEIRAS DO SETOR DE ENERGIA ELÉTRICA'}"
      ]
     },
     "execution_count": 11,
     "metadata": {},
     "output_type": "execute_result"
    }
   ],
   "source": [
    "captura_titulo(soup)"
   ]
  },
  {
   "cell_type": "code",
   "execution_count": 12,
   "id": "50468f30-b4ce-4213-8579-4af8ee579376",
   "metadata": {},
   "outputs": [],
   "source": [
    "def captura_data(soup):\n",
    "    try:\n",
    "        date_tag = soup.find('div', {'class': 'item published'})\n",
    "        date = date_tag.find('div', {'class': 'value'}).text\n",
    "        date = ' '.join(date.split())\n",
    "    except:\n",
    "        date = ''\n",
    "    return {'Data de Publicação': date[:10]}"
   ]
  },
  {
   "cell_type": "code",
   "execution_count": 13,
   "id": "713776bd-512c-453e-93c2-f88e57ab9049",
   "metadata": {},
   "outputs": [
    {
     "data": {
      "text/plain": [
       "{'Data de Publicação': '2013-04-26'}"
      ]
     },
     "execution_count": 13,
     "metadata": {},
     "output_type": "execute_result"
    }
   ],
   "source": [
    "captura_data(soup)"
   ]
  },
  {
   "cell_type": "code",
   "execution_count": 14,
   "id": "b230fedd-6d44-4a81-acf9-60e876529a31",
   "metadata": {},
   "outputs": [],
   "source": [
    "def captura_resumo(soup):\n",
    "    try:\n",
    "        abstract_section = soup.find('section', {'class': 'item abstract'})\n",
    "        abstract = abstract_section.text\n",
    "        abstract = abstract.replace('Resumo:', '')\n",
    "        abstract = abstract.replace('Resumo', '').strip()\n",
    "        #abstract = ' '.join(abstract.split())\n",
    "    except:\n",
    "        abstract = ''\n",
    "    return {'Resumo': abstract}"
   ]
  },
  {
   "cell_type": "code",
   "execution_count": 15,
   "id": "10ef7c76-896d-4862-ab1f-3b7bce77d5cd",
   "metadata": {},
   "outputs": [
    {
     "data": {
      "text/plain": [
       "{'Resumo': 'Nos últimos anos, diante das pressões dos stakeholders, as empresas buscam maior transparência na divulgação de suas informações, dessa forma, além de aspectos econômicos, passaram a relatar ações associadas à sociedade e ao meio-ambiente por meio de Relatórios de Sustentabilidade. Devido a diversos fatores, a publicação desse documento tem sido uma prática cada vez mais frequente entre as empresas. Contudo, no que diz respeito a qualidade da informação, verifica-se que os relatórios apresentam diferentes níveis de profundidade. Dessa forma, o presente trabalho tem por objetivo verificar a evolução, nos relatórios de sustentabilidade, do grau de aderência plena e do grau de evidenciação efetiva aos indicadores de desempenho econômico, ambiental e social estabelecidos no modelo “G3” das Diretrizes para Elaboração de Relatórios de Sustentabilidade da Global Reporting Initiative (GRI), de empresas brasileiras do setor de energia elétrica no período de 2006 à 2009.  A partir da análise dos relatórios, pode.se verificar o quanto do que foi requerido nos indicadores de desempenho pelas Diretrizes da GRI foi realmente divulgado e o quanto do potencial dessas informações foi efetivamente apresentado ao longo desse período. Os principais resultados mostram que houve evolução no grau de aderência plena e grau de evidenciação efetiva aos indicadores de desempenho no período, mas as empresas selecionadas apresentam diferentes níveis de conformidade com as Diretrizes da GRI e de evidenciação das informações.'}"
      ]
     },
     "execution_count": 15,
     "metadata": {},
     "output_type": "execute_result"
    }
   ],
   "source": [
    "captura_resumo(soup)"
   ]
  },
  {
   "cell_type": "code",
   "execution_count": 16,
   "id": "f38caded-13c5-4c28-986d-f00660034281",
   "metadata": {},
   "outputs": [],
   "source": [
    "def captura_palavras_chave(soup):\n",
    "    try:\n",
    "        kw_section = soup.find('section', {'class': 'item keywords'})\n",
    "        kw = kw_section.text.replace('Palavras-chave:', '')\n",
    "        kw = ' '.join(kw.split())\n",
    "        kw = kw.replace(',', '.').replace(';', '.')\n",
    "    except:\n",
    "        kw = ''\n",
    "    if kw == '':\n",
    "        try:\n",
    "            kw_section = soup.find('section', {'class': 'item abstract'})\n",
    "            p_list = kw_section.find_all('p')\n",
    "            for p in p_list:\n",
    "                if 'Palavras-chave' in p.text:\n",
    "                    kw_full = p.text\n",
    "                    kw = kw_full.replace('Palavras-chave', '').replace(':', '')\n",
    "                    kw = ' '.join(kw.split())\n",
    "                    kw = kw.replace(',', '.').replace(';', '.')\n",
    "        except:\n",
    "            pass\n",
    "    return {'Palavras-chave': kw}"
   ]
  },
  {
   "cell_type": "code",
   "execution_count": 17,
   "id": "dd0c243f-9e6f-4fe8-8b95-5f02668a9bab",
   "metadata": {},
   "outputs": [
    {
     "data": {
      "text/plain": [
       "{'Palavras-chave': 'Relatório de sustentabilidade. GRI. Indicadores de desempenho. Setor de energia elétrica'}"
      ]
     },
     "execution_count": 17,
     "metadata": {},
     "output_type": "execute_result"
    }
   ],
   "source": [
    "captura_palavras_chave(soup)"
   ]
  },
  {
   "cell_type": "code",
   "execution_count": 18,
   "id": "36367342-b031-4345-95a9-e843c9b3c5e9",
   "metadata": {},
   "outputs": [],
   "source": [
    "def captura_autores(soup):\n",
    "    autores = []\n",
    "    try:\n",
    "        authors_ul = soup.find('ul', {'class': 'authors'})\n",
    "        autores = authors_ul.find_all('span', {'class': 'name'})\n",
    "        autores = [' '.join(a.text.split()) for a in autores]\n",
    "    except:\n",
    "        pass\n",
    "    qtd_autores = len(autores)\n",
    "    autores = completar_lista(autores)\n",
    "    autores = [qtd_autores] + autores\n",
    "    \n",
    "    key_autores = [f\"Autor {i}\" for i in range(1, 7)]\n",
    "    key_autores = ['Qtd. de Autores'] + key_autores\n",
    "\n",
    "    return dict(zip(key_autores, autores))"
   ]
  },
  {
   "cell_type": "code",
   "execution_count": 19,
   "id": "446c26d9-2776-40a4-a401-2206368c2a80",
   "metadata": {},
   "outputs": [
    {
     "data": {
      "text/plain": [
       "{'Qtd. de Autores': 3,\n",
       " 'Autor 1': 'Heloisa Maria Motta Morisue',\n",
       " 'Autor 2': 'Maisa de Souza Ribeiro',\n",
       " 'Autor 3': 'Isabela Alves de Morais Penteado',\n",
       " 'Autor 4': '',\n",
       " 'Autor 5': '',\n",
       " 'Autor 6': ''}"
      ]
     },
     "execution_count": 19,
     "metadata": {},
     "output_type": "execute_result"
    }
   ],
   "source": [
    "captura_autores(soup)"
   ]
  },
  {
   "cell_type": "code",
   "execution_count": 20,
   "id": "2aa8fd49-3fe3-41fc-927f-bb933136d0e2",
   "metadata": {},
   "outputs": [],
   "source": [
    "def captura_afiliacao(soup):\n",
    "    afiliacao = []\n",
    "    try:\n",
    "        authors_ul = soup.find('ul', {'class': 'authors'})\n",
    "        afiliacao = authors_ul.find_all('span', {'class': 'affiliation'})\n",
    "        afiliacao = [' '.join(a.text.split()) for a in afiliacao]\n",
    "        afiliacao = [limpar_afiliacao(a) for a in afiliacao]\n",
    "    except:\n",
    "        pass\n",
    "    afiliacao = completar_lista(afiliacao)\n",
    "    \n",
    "    key_affiliation = [f\"Afiliação {i}\" for i in range(1, 7)]\n",
    "\n",
    "    return dict(zip(key_affiliation, afiliacao))"
   ]
  },
  {
   "cell_type": "code",
   "execution_count": 21,
   "id": "71fb68e9-1066-49bb-87e6-f23b16a2559d",
   "metadata": {},
   "outputs": [
    {
     "data": {
      "text/plain": [
       "{'Afiliação 1': 'FEA-RP',\n",
       " 'Afiliação 2': 'FEA-RP',\n",
       " 'Afiliação 3': 'FEA-RP',\n",
       " 'Afiliação 4': '',\n",
       " 'Afiliação 5': '',\n",
       " 'Afiliação 6': ''}"
      ]
     },
     "execution_count": 21,
     "metadata": {},
     "output_type": "execute_result"
    }
   ],
   "source": [
    "captura_afiliacao(soup)"
   ]
  },
  {
   "cell_type": "code",
   "execution_count": 22,
   "id": "7e8194b3-a261-43b5-aaf5-1510ee1d1b50",
   "metadata": {},
   "outputs": [],
   "source": [
    "def realizar_consulta(key_words_list):\n",
    "    periodico_nome_dict = {'Revista': 'Contabilidade Vista & Revista'}\n",
    "    url_search_text = 'https://revistas.face.ufmg.br/index.php/contabilidadevistaerevista/search/search?query=__query__&searchJournal=1&authors=&title=&abstract=&galleyFullText=&discipline=&subject=&type=&coverage=&indexTerms=&dateFromMonth=&dateFromDay=&dateFromYear=2012&dateToMonth=&dateToDay=&dateToYear=2021&orderBy=score&orderDir=desc&searchPage=__pg_num__#results'\n",
    "    a_links = []\n",
    "    for key_word in key_words_list:\n",
    "        query = criar_query(key_word)\n",
    "        a_links += listar_links(url_search_text, query)\n",
    "        \n",
    "    resultados = []\n",
    "    for link in a_links:\n",
    "        link_dict = {'Url Artigo': link}\n",
    "        page = requests.get(link)\n",
    "        soup = BeautifulSoup(page.content, 'html.parser')\n",
    "        dict_artigo = {\n",
    "            **captura_data(soup),\n",
    "            **captura_titulo(soup),\n",
    "            **captura_resumo(soup),\n",
    "            **captura_palavras_chave(soup),\n",
    "            **captura_autores(soup),\n",
    "            **captura_afiliacao(soup),\n",
    "            **link_dict,\n",
    "            **periodico_nome_dict\n",
    "        }\n",
    "        resultados.append(dict_artigo)\n",
    "    df = pd.DataFrame(resultados)\n",
    "    df['Data de Publicação'] = pd.to_datetime(df['Data de Publicação'], format='%Y-%m-%d')\n",
    "    return df"
   ]
  },
  {
   "cell_type": "markdown",
   "id": "2b0abfd7-a392-42f5-a377-7b0db2717e3f",
   "metadata": {},
   "source": [
    "## Pesquisa por artigos"
   ]
  },
  {
   "cell_type": "code",
   "execution_count": 23,
   "id": "3fcf8092-c93f-4fb4-8624-8793be02c073",
   "metadata": {},
   "outputs": [
    {
     "data": {
      "text/html": [
       "<div>\n",
       "<style scoped>\n",
       "    .dataframe tbody tr th:only-of-type {\n",
       "        vertical-align: middle;\n",
       "    }\n",
       "\n",
       "    .dataframe tbody tr th {\n",
       "        vertical-align: top;\n",
       "    }\n",
       "\n",
       "    .dataframe thead th {\n",
       "        text-align: right;\n",
       "    }\n",
       "</style>\n",
       "<table border=\"1\" class=\"dataframe\">\n",
       "  <thead>\n",
       "    <tr style=\"text-align: right;\">\n",
       "      <th></th>\n",
       "      <th>Data de Publicação</th>\n",
       "      <th>Título</th>\n",
       "      <th>Resumo</th>\n",
       "      <th>Palavras-chave</th>\n",
       "      <th>Qtd. de Autores</th>\n",
       "      <th>Autor 1</th>\n",
       "      <th>Autor 2</th>\n",
       "      <th>Autor 3</th>\n",
       "      <th>Autor 4</th>\n",
       "      <th>Autor 5</th>\n",
       "      <th>Autor 6</th>\n",
       "      <th>Afiliação 1</th>\n",
       "      <th>Afiliação 2</th>\n",
       "      <th>Afiliação 3</th>\n",
       "      <th>Afiliação 4</th>\n",
       "      <th>Afiliação 5</th>\n",
       "      <th>Afiliação 6</th>\n",
       "      <th>Url Artigo</th>\n",
       "      <th>Revista</th>\n",
       "    </tr>\n",
       "  </thead>\n",
       "  <tbody>\n",
       "    <tr>\n",
       "      <th>0</th>\n",
       "      <td>2013-04-26</td>\n",
       "      <td>A EVOLUÇÃO DOS RELATÓRIOS DE SUSTENTABILIDADE ...</td>\n",
       "      <td>Nos últimos anos, diante das pressões dos stak...</td>\n",
       "      <td>Relatório de sustentabilidade. GRI. Indicadore...</td>\n",
       "      <td>3</td>\n",
       "      <td>Heloisa Maria Motta Morisue</td>\n",
       "      <td>Maisa de Souza Ribeiro</td>\n",
       "      <td>Isabela Alves de Morais Penteado</td>\n",
       "      <td></td>\n",
       "      <td></td>\n",
       "      <td></td>\n",
       "      <td>FEA-RP</td>\n",
       "      <td>FEA-RP</td>\n",
       "      <td>FEA-RP</td>\n",
       "      <td></td>\n",
       "      <td></td>\n",
       "      <td></td>\n",
       "      <td>https://revistas.face.ufmg.br/index.php/contab...</td>\n",
       "      <td>Contabilidade Vista &amp; Revista</td>\n",
       "    </tr>\n",
       "    <tr>\n",
       "      <th>1</th>\n",
       "      <td>2021-03-02</td>\n",
       "      <td>GESTÃO DE CUSTOS AMBIENTAIS EM HOSPITAIS PRIVA...</td>\n",
       "      <td>O objetivo do estudo é identificar os procedim...</td>\n",
       "      <td>Contabilidade Ambiental. Gestão de Custos Ambi...</td>\n",
       "      <td>3</td>\n",
       "      <td>Marcio Atti Provenzano</td>\n",
       "      <td>Marcos Antônio de Souza</td>\n",
       "      <td>Débora Gomes de Gomes</td>\n",
       "      <td></td>\n",
       "      <td></td>\n",
       "      <td></td>\n",
       "      <td>Unisinos</td>\n",
       "      <td>Universidade Federal de Uberlândia</td>\n",
       "      <td>Universidade Federal do Rio Grande – FURG</td>\n",
       "      <td></td>\n",
       "      <td></td>\n",
       "      <td></td>\n",
       "      <td>https://revistas.face.ufmg.br/index.php/contab...</td>\n",
       "      <td>Contabilidade Vista &amp; Revista</td>\n",
       "    </tr>\n",
       "    <tr>\n",
       "      <th>2</th>\n",
       "      <td>2017-05-04</td>\n",
       "      <td>GESTÃO SOCIOAMBIENTAL EM INSTITUIÇÕES BANCÁRIA...</td>\n",
       "      <td>No ambiente empresarial, a reflexão sobre o te...</td>\n",
       "      <td>Gestão Ambiental. Indicadores. Sustentabilidade</td>\n",
       "      <td>4</td>\n",
       "      <td>Flávio José de Melo</td>\n",
       "      <td>Daniele Cristina Bernd</td>\n",
       "      <td>Marcos Wagner da Fonseca</td>\n",
       "      <td>Jorge Eduardo Scarpin</td>\n",
       "      <td></td>\n",
       "      <td></td>\n",
       "      <td>Universidade Federal do Paraná</td>\n",
       "      <td>Universidade Federal do Paraná</td>\n",
       "      <td>Universidade Federal do Paraná</td>\n",
       "      <td>Universidade Federal do Paraná</td>\n",
       "      <td></td>\n",
       "      <td></td>\n",
       "      <td>https://revistas.face.ufmg.br/index.php/contab...</td>\n",
       "      <td>Contabilidade Vista &amp; Revista</td>\n",
       "    </tr>\n",
       "  </tbody>\n",
       "</table>\n",
       "</div>"
      ],
      "text/plain": [
       "  Data de Publicação                                             Título  \\\n",
       "0         2013-04-26  A EVOLUÇÃO DOS RELATÓRIOS DE SUSTENTABILIDADE ...   \n",
       "1         2021-03-02  GESTÃO DE CUSTOS AMBIENTAIS EM HOSPITAIS PRIVA...   \n",
       "2         2017-05-04  GESTÃO SOCIOAMBIENTAL EM INSTITUIÇÕES BANCÁRIA...   \n",
       "\n",
       "                                              Resumo  \\\n",
       "0  Nos últimos anos, diante das pressões dos stak...   \n",
       "1  O objetivo do estudo é identificar os procedim...   \n",
       "2  No ambiente empresarial, a reflexão sobre o te...   \n",
       "\n",
       "                                      Palavras-chave  Qtd. de Autores  \\\n",
       "0  Relatório de sustentabilidade. GRI. Indicadore...                3   \n",
       "1  Contabilidade Ambiental. Gestão de Custos Ambi...                3   \n",
       "2    Gestão Ambiental. Indicadores. Sustentabilidade                4   \n",
       "\n",
       "                       Autor 1                  Autor 2  \\\n",
       "0  Heloisa Maria Motta Morisue   Maisa de Souza Ribeiro   \n",
       "1       Marcio Atti Provenzano  Marcos Antônio de Souza   \n",
       "2          Flávio José de Melo   Daniele Cristina Bernd   \n",
       "\n",
       "                            Autor 3                Autor 4 Autor 5 Autor 6  \\\n",
       "0  Isabela Alves de Morais Penteado                                          \n",
       "1             Débora Gomes de Gomes                                          \n",
       "2          Marcos Wagner da Fonseca  Jorge Eduardo Scarpin                   \n",
       "\n",
       "                      Afiliação 1                         Afiliação 2  \\\n",
       "0                          FEA-RP                              FEA-RP   \n",
       "1                        Unisinos  Universidade Federal de Uberlândia   \n",
       "2  Universidade Federal do Paraná      Universidade Federal do Paraná   \n",
       "\n",
       "                                 Afiliação 3                     Afiliação 4  \\\n",
       "0                                     FEA-RP                                   \n",
       "1  Universidade Federal do Rio Grande – FURG                                   \n",
       "2             Universidade Federal do Paraná  Universidade Federal do Paraná   \n",
       "\n",
       "  Afiliação 5 Afiliação 6                                         Url Artigo  \\\n",
       "0                          https://revistas.face.ufmg.br/index.php/contab...   \n",
       "1                          https://revistas.face.ufmg.br/index.php/contab...   \n",
       "2                          https://revistas.face.ufmg.br/index.php/contab...   \n",
       "\n",
       "                         Revista  \n",
       "0  Contabilidade Vista & Revista  \n",
       "1  Contabilidade Vista & Revista  \n",
       "2  Contabilidade Vista & Revista  "
      ]
     },
     "execution_count": 23,
     "metadata": {},
     "output_type": "execute_result"
    }
   ],
   "source": [
    "key_words_list = ['contabilidade ambiental', 'balanço social', 'relato integrado', 'nbct 15']\n",
    "df = realizar_consulta(key_words_list)\n",
    "df.head(3)"
   ]
  },
  {
   "cell_type": "code",
   "execution_count": 24,
   "id": "71233ca3-6bf8-40f7-88e5-bc015740d7e4",
   "metadata": {},
   "outputs": [],
   "source": [
    "df.to_csv('../data/RVC_UFMG.csv', index=False)"
   ]
  },
  {
   "cell_type": "code",
   "execution_count": 25,
   "id": "57e11bb8-3d23-4d86-b0b7-99e98da8b196",
   "metadata": {},
   "outputs": [
    {
     "data": {
      "text/html": [
       "<div>\n",
       "<style scoped>\n",
       "    .dataframe tbody tr th:only-of-type {\n",
       "        vertical-align: middle;\n",
       "    }\n",
       "\n",
       "    .dataframe tbody tr th {\n",
       "        vertical-align: top;\n",
       "    }\n",
       "\n",
       "    .dataframe thead th {\n",
       "        text-align: right;\n",
       "    }\n",
       "</style>\n",
       "<table border=\"1\" class=\"dataframe\">\n",
       "  <thead>\n",
       "    <tr style=\"text-align: right;\">\n",
       "      <th></th>\n",
       "      <th>Data de Publicação</th>\n",
       "      <th>Título</th>\n",
       "      <th>Resumo</th>\n",
       "      <th>Palavras-chave</th>\n",
       "      <th>Qtd. de Autores</th>\n",
       "      <th>Autor 1</th>\n",
       "      <th>Autor 2</th>\n",
       "      <th>Autor 3</th>\n",
       "      <th>Autor 4</th>\n",
       "      <th>Autor 5</th>\n",
       "      <th>Autor 6</th>\n",
       "      <th>Afiliação 1</th>\n",
       "      <th>Afiliação 2</th>\n",
       "      <th>Afiliação 3</th>\n",
       "      <th>Afiliação 4</th>\n",
       "      <th>Afiliação 5</th>\n",
       "      <th>Afiliação 6</th>\n",
       "      <th>Url Artigo</th>\n",
       "      <th>Revista</th>\n",
       "    </tr>\n",
       "  </thead>\n",
       "  <tbody>\n",
       "    <tr>\n",
       "      <th>0</th>\n",
       "      <td>2013-04-26</td>\n",
       "      <td>A EVOLUÇÃO DOS RELATÓRIOS DE SUSTENTABILIDADE ...</td>\n",
       "      <td>Nos últimos anos, diante das pressões dos stak...</td>\n",
       "      <td>Relatório de sustentabilidade. GRI. Indicadore...</td>\n",
       "      <td>3</td>\n",
       "      <td>Heloisa Maria Motta Morisue</td>\n",
       "      <td>Maisa de Souza Ribeiro</td>\n",
       "      <td>Isabela Alves de Morais Penteado</td>\n",
       "      <td></td>\n",
       "      <td></td>\n",
       "      <td></td>\n",
       "      <td>FEA-RP</td>\n",
       "      <td>FEA-RP</td>\n",
       "      <td>FEA-RP</td>\n",
       "      <td></td>\n",
       "      <td></td>\n",
       "      <td></td>\n",
       "      <td>https://revistas.face.ufmg.br/index.php/contab...</td>\n",
       "      <td>Contabilidade Vista &amp; Revista</td>\n",
       "    </tr>\n",
       "    <tr>\n",
       "      <th>1</th>\n",
       "      <td>2021-03-02</td>\n",
       "      <td>GESTÃO DE CUSTOS AMBIENTAIS EM HOSPITAIS PRIVA...</td>\n",
       "      <td>O objetivo do estudo é identificar os procedim...</td>\n",
       "      <td>Contabilidade Ambiental. Gestão de Custos Ambi...</td>\n",
       "      <td>3</td>\n",
       "      <td>Marcio Atti Provenzano</td>\n",
       "      <td>Marcos Antônio de Souza</td>\n",
       "      <td>Débora Gomes de Gomes</td>\n",
       "      <td></td>\n",
       "      <td></td>\n",
       "      <td></td>\n",
       "      <td>Unisinos</td>\n",
       "      <td>Universidade Federal de Uberlândia</td>\n",
       "      <td>Universidade Federal do Rio Grande – FURG</td>\n",
       "      <td></td>\n",
       "      <td></td>\n",
       "      <td></td>\n",
       "      <td>https://revistas.face.ufmg.br/index.php/contab...</td>\n",
       "      <td>Contabilidade Vista &amp; Revista</td>\n",
       "    </tr>\n",
       "    <tr>\n",
       "      <th>2</th>\n",
       "      <td>2017-05-04</td>\n",
       "      <td>GESTÃO SOCIOAMBIENTAL EM INSTITUIÇÕES BANCÁRIA...</td>\n",
       "      <td>No ambiente empresarial, a reflexão sobre o te...</td>\n",
       "      <td>Gestão Ambiental. Indicadores. Sustentabilidade</td>\n",
       "      <td>4</td>\n",
       "      <td>Flávio José de Melo</td>\n",
       "      <td>Daniele Cristina Bernd</td>\n",
       "      <td>Marcos Wagner da Fonseca</td>\n",
       "      <td>Jorge Eduardo Scarpin</td>\n",
       "      <td></td>\n",
       "      <td></td>\n",
       "      <td>Universidade Federal do Paraná</td>\n",
       "      <td>Universidade Federal do Paraná</td>\n",
       "      <td>Universidade Federal do Paraná</td>\n",
       "      <td>Universidade Federal do Paraná</td>\n",
       "      <td></td>\n",
       "      <td></td>\n",
       "      <td>https://revistas.face.ufmg.br/index.php/contab...</td>\n",
       "      <td>Contabilidade Vista &amp; Revista</td>\n",
       "    </tr>\n",
       "    <tr>\n",
       "      <th>3</th>\n",
       "      <td>2013-04-26</td>\n",
       "      <td>Uma Análise comparativa da Responsabilidade So...</td>\n",
       "      <td>Este artigo objetiva estudar a Responsabilidad...</td>\n",
       "      <td>Responsabilidade Social Corporativa. Bancos. B...</td>\n",
       "      <td>3</td>\n",
       "      <td>Vicente Lima Crisóstomo</td>\n",
       "      <td>Fátima de Souza Freire</td>\n",
       "      <td>Patrícia Matias Soares</td>\n",
       "      <td></td>\n",
       "      <td></td>\n",
       "      <td></td>\n",
       "      <td>Universidade Federal do Ceará</td>\n",
       "      <td>Universidade de Brasília</td>\n",
       "      <td>Universidade Federal do Ceará</td>\n",
       "      <td></td>\n",
       "      <td></td>\n",
       "      <td></td>\n",
       "      <td>https://revistas.face.ufmg.br/index.php/contab...</td>\n",
       "      <td>Contabilidade Vista &amp; Revista</td>\n",
       "    </tr>\n",
       "    <tr>\n",
       "      <th>4</th>\n",
       "      <td>2019-03-14</td>\n",
       "      <td>PERFIL DE ARRECADAÇÃO DOS MUNICÍPIOS DO ESTADO...</td>\n",
       "      <td>A Lei de Responsabilidade Fiscal surgiu com o ...</td>\n",
       "      <td>Receitas Públicas Próprias. Transferências Int...</td>\n",
       "      <td>3</td>\n",
       "      <td>Elizete Aparecida de Magalhães Wakim</td>\n",
       "      <td>Vasconcelos Reis Wakim</td>\n",
       "      <td>João Eustáquio de Lima</td>\n",
       "      <td></td>\n",
       "      <td></td>\n",
       "      <td></td>\n",
       "      <td>Universidade Federal dos Vales Jequitinhonha e...</td>\n",
       "      <td>Universidade Federal dos Vales Jequitinhonha e...</td>\n",
       "      <td>Universidade Federal de Viçosa</td>\n",
       "      <td></td>\n",
       "      <td></td>\n",
       "      <td></td>\n",
       "      <td>https://revistas.face.ufmg.br/index.php/contab...</td>\n",
       "      <td>Contabilidade Vista &amp; Revista</td>\n",
       "    </tr>\n",
       "    <tr>\n",
       "      <th>5</th>\n",
       "      <td>2020-07-12</td>\n",
       "      <td>EVIDENCIAÇÃO DAS AÇÕES DIANTE DAS MUDANÇAS CLI...</td>\n",
       "      <td>O objetivo deste trabalho foi propor um modelo...</td>\n",
       "      <td>Evidenciação. Mudanças Climáticas. Determinant...</td>\n",
       "      <td>3</td>\n",
       "      <td>Juliano Almeida de Faria</td>\n",
       "      <td>José Célio Silveira Andrade</td>\n",
       "      <td>Sônia Maria da Silva Gomes</td>\n",
       "      <td></td>\n",
       "      <td></td>\n",
       "      <td></td>\n",
       "      <td>Universidade Federal de Sergipe</td>\n",
       "      <td>Universidade Federal da Bahia</td>\n",
       "      <td>Universidade Federal da Bahia</td>\n",
       "      <td></td>\n",
       "      <td></td>\n",
       "      <td></td>\n",
       "      <td>https://revistas.face.ufmg.br/index.php/contab...</td>\n",
       "      <td>Contabilidade Vista &amp; Revista</td>\n",
       "    </tr>\n",
       "    <tr>\n",
       "      <th>6</th>\n",
       "      <td>2015-05-11</td>\n",
       "      <td>Fatores que Influenciam o Processo Ensino-Apre...</td>\n",
       "      <td>O estudo objetiva verificar a percepção dos di...</td>\n",
       "      <td>Educação e Pesquisa em Contabilidade</td>\n",
       "      <td>2</td>\n",
       "      <td>Franciele Beck</td>\n",
       "      <td>Rita Buzzi Rausch</td>\n",
       "      <td></td>\n",
       "      <td></td>\n",
       "      <td></td>\n",
       "      <td></td>\n",
       "      <td>Universidade Regional de Blumenau</td>\n",
       "      <td>Universidade Regional de Blumenau</td>\n",
       "      <td></td>\n",
       "      <td></td>\n",
       "      <td></td>\n",
       "      <td></td>\n",
       "      <td>https://revistas.face.ufmg.br/index.php/contab...</td>\n",
       "      <td>Contabilidade Vista &amp; Revista</td>\n",
       "    </tr>\n",
       "    <tr>\n",
       "      <th>7</th>\n",
       "      <td>2020-07-12</td>\n",
       "      <td>GÊNERO, ETNIA E RAÇA: DÉBITO OU CRÉDITO NA CON...</td>\n",
       "      <td>Esta pesquisa tem por objetivo verificar se ex...</td>\n",
       "      <td>Gênero. Etnia. Raça. Contabilidade. Discrimina...</td>\n",
       "      <td>3</td>\n",
       "      <td>José Luiz Borsatto Junior</td>\n",
       "      <td>Evellyn Danielly Zabotti</td>\n",
       "      <td>Maria da Piedade Araújo</td>\n",
       "      <td></td>\n",
       "      <td></td>\n",
       "      <td></td>\n",
       "      <td>Universidade Paranaense</td>\n",
       "      <td>Universidade Estadual do Oeste do Paraná</td>\n",
       "      <td></td>\n",
       "      <td></td>\n",
       "      <td></td>\n",
       "      <td></td>\n",
       "      <td>https://revistas.face.ufmg.br/index.php/contab...</td>\n",
       "      <td>Contabilidade Vista &amp; Revista</td>\n",
       "    </tr>\n",
       "    <tr>\n",
       "      <th>8</th>\n",
       "      <td>2020-12-05</td>\n",
       "      <td>O PERCURSO DO CONTRATO DE LEGITIMAÇÃO PARA O D...</td>\n",
       "      <td>Os bancos de desenvolvimento atuam concedendo ...</td>\n",
       "      <td>desenvolvimento sustentável. relato integrado....</td>\n",
       "      <td>3</td>\n",
       "      <td>Kelli Juliane Favato</td>\n",
       "      <td>Marguit Neumann</td>\n",
       "      <td>Simone Leticia Raimundini Sanches</td>\n",
       "      <td></td>\n",
       "      <td></td>\n",
       "      <td></td>\n",
       "      <td>Universidade Estadual de Maringá</td>\n",
       "      <td>Universidade Estadual de Maringá</td>\n",
       "      <td>Universidade Estadual de Maringá</td>\n",
       "      <td></td>\n",
       "      <td></td>\n",
       "      <td></td>\n",
       "      <td>https://revistas.face.ufmg.br/index.php/contab...</td>\n",
       "      <td>Contabilidade Vista &amp; Revista</td>\n",
       "    </tr>\n",
       "  </tbody>\n",
       "</table>\n",
       "</div>"
      ],
      "text/plain": [
       "  Data de Publicação                                             Título  \\\n",
       "0         2013-04-26  A EVOLUÇÃO DOS RELATÓRIOS DE SUSTENTABILIDADE ...   \n",
       "1         2021-03-02  GESTÃO DE CUSTOS AMBIENTAIS EM HOSPITAIS PRIVA...   \n",
       "2         2017-05-04  GESTÃO SOCIOAMBIENTAL EM INSTITUIÇÕES BANCÁRIA...   \n",
       "3         2013-04-26  Uma Análise comparativa da Responsabilidade So...   \n",
       "4         2019-03-14  PERFIL DE ARRECADAÇÃO DOS MUNICÍPIOS DO ESTADO...   \n",
       "5         2020-07-12  EVIDENCIAÇÃO DAS AÇÕES DIANTE DAS MUDANÇAS CLI...   \n",
       "6         2015-05-11  Fatores que Influenciam o Processo Ensino-Apre...   \n",
       "7         2020-07-12  GÊNERO, ETNIA E RAÇA: DÉBITO OU CRÉDITO NA CON...   \n",
       "8         2020-12-05  O PERCURSO DO CONTRATO DE LEGITIMAÇÃO PARA O D...   \n",
       "\n",
       "                                              Resumo  \\\n",
       "0  Nos últimos anos, diante das pressões dos stak...   \n",
       "1  O objetivo do estudo é identificar os procedim...   \n",
       "2  No ambiente empresarial, a reflexão sobre o te...   \n",
       "3  Este artigo objetiva estudar a Responsabilidad...   \n",
       "4  A Lei de Responsabilidade Fiscal surgiu com o ...   \n",
       "5  O objetivo deste trabalho foi propor um modelo...   \n",
       "6  O estudo objetiva verificar a percepção dos di...   \n",
       "7  Esta pesquisa tem por objetivo verificar se ex...   \n",
       "8  Os bancos de desenvolvimento atuam concedendo ...   \n",
       "\n",
       "                                      Palavras-chave  Qtd. de Autores  \\\n",
       "0  Relatório de sustentabilidade. GRI. Indicadore...                3   \n",
       "1  Contabilidade Ambiental. Gestão de Custos Ambi...                3   \n",
       "2    Gestão Ambiental. Indicadores. Sustentabilidade                4   \n",
       "3  Responsabilidade Social Corporativa. Bancos. B...                3   \n",
       "4  Receitas Públicas Próprias. Transferências Int...                3   \n",
       "5  Evidenciação. Mudanças Climáticas. Determinant...                3   \n",
       "6               Educação e Pesquisa em Contabilidade                2   \n",
       "7  Gênero. Etnia. Raça. Contabilidade. Discrimina...                3   \n",
       "8  desenvolvimento sustentável. relato integrado....                3   \n",
       "\n",
       "                                Autor 1                      Autor 2  \\\n",
       "0           Heloisa Maria Motta Morisue       Maisa de Souza Ribeiro   \n",
       "1                Marcio Atti Provenzano      Marcos Antônio de Souza   \n",
       "2                   Flávio José de Melo       Daniele Cristina Bernd   \n",
       "3               Vicente Lima Crisóstomo       Fátima de Souza Freire   \n",
       "4  Elizete Aparecida de Magalhães Wakim       Vasconcelos Reis Wakim   \n",
       "5              Juliano Almeida de Faria  José Célio Silveira Andrade   \n",
       "6                        Franciele Beck            Rita Buzzi Rausch   \n",
       "7             José Luiz Borsatto Junior     Evellyn Danielly Zabotti   \n",
       "8                  Kelli Juliane Favato              Marguit Neumann   \n",
       "\n",
       "                             Autor 3                Autor 4 Autor 5 Autor 6  \\\n",
       "0   Isabela Alves de Morais Penteado                                          \n",
       "1              Débora Gomes de Gomes                                          \n",
       "2           Marcos Wagner da Fonseca  Jorge Eduardo Scarpin                   \n",
       "3             Patrícia Matias Soares                                          \n",
       "4             João Eustáquio de Lima                                          \n",
       "5         Sônia Maria da Silva Gomes                                          \n",
       "6                                                                             \n",
       "7            Maria da Piedade Araújo                                          \n",
       "8  Simone Leticia Raimundini Sanches                                          \n",
       "\n",
       "                                         Afiliação 1  \\\n",
       "0                                             FEA-RP   \n",
       "1                                           Unisinos   \n",
       "2                     Universidade Federal do Paraná   \n",
       "3                      Universidade Federal do Ceará   \n",
       "4  Universidade Federal dos Vales Jequitinhonha e...   \n",
       "5                    Universidade Federal de Sergipe   \n",
       "6                  Universidade Regional de Blumenau   \n",
       "7                            Universidade Paranaense   \n",
       "8                   Universidade Estadual de Maringá   \n",
       "\n",
       "                                         Afiliação 2  \\\n",
       "0                                             FEA-RP   \n",
       "1                 Universidade Federal de Uberlândia   \n",
       "2                     Universidade Federal do Paraná   \n",
       "3                           Universidade de Brasília   \n",
       "4  Universidade Federal dos Vales Jequitinhonha e...   \n",
       "5                      Universidade Federal da Bahia   \n",
       "6                  Universidade Regional de Blumenau   \n",
       "7           Universidade Estadual do Oeste do Paraná   \n",
       "8                   Universidade Estadual de Maringá   \n",
       "\n",
       "                                 Afiliação 3                     Afiliação 4  \\\n",
       "0                                     FEA-RP                                   \n",
       "1  Universidade Federal do Rio Grande – FURG                                   \n",
       "2             Universidade Federal do Paraná  Universidade Federal do Paraná   \n",
       "3              Universidade Federal do Ceará                                   \n",
       "4             Universidade Federal de Viçosa                                   \n",
       "5              Universidade Federal da Bahia                                   \n",
       "6                                                                              \n",
       "7                                                                              \n",
       "8           Universidade Estadual de Maringá                                   \n",
       "\n",
       "  Afiliação 5 Afiliação 6                                         Url Artigo  \\\n",
       "0                          https://revistas.face.ufmg.br/index.php/contab...   \n",
       "1                          https://revistas.face.ufmg.br/index.php/contab...   \n",
       "2                          https://revistas.face.ufmg.br/index.php/contab...   \n",
       "3                          https://revistas.face.ufmg.br/index.php/contab...   \n",
       "4                          https://revistas.face.ufmg.br/index.php/contab...   \n",
       "5                          https://revistas.face.ufmg.br/index.php/contab...   \n",
       "6                          https://revistas.face.ufmg.br/index.php/contab...   \n",
       "7                          https://revistas.face.ufmg.br/index.php/contab...   \n",
       "8                          https://revistas.face.ufmg.br/index.php/contab...   \n",
       "\n",
       "                         Revista  \n",
       "0  Contabilidade Vista & Revista  \n",
       "1  Contabilidade Vista & Revista  \n",
       "2  Contabilidade Vista & Revista  \n",
       "3  Contabilidade Vista & Revista  \n",
       "4  Contabilidade Vista & Revista  \n",
       "5  Contabilidade Vista & Revista  \n",
       "6  Contabilidade Vista & Revista  \n",
       "7  Contabilidade Vista & Revista  \n",
       "8  Contabilidade Vista & Revista  "
      ]
     },
     "execution_count": 25,
     "metadata": {},
     "output_type": "execute_result"
    }
   ],
   "source": [
    "df"
   ]
  },
  {
   "cell_type": "code",
   "execution_count": null,
   "id": "4ba6bd49-1e54-4df3-9764-0e147eaf9291",
   "metadata": {},
   "outputs": [],
   "source": []
  }
 ],
 "metadata": {
  "kernelspec": {
   "display_name": "venv",
   "language": "python",
   "name": "venv"
  },
  "language_info": {
   "codemirror_mode": {
    "name": "ipython",
    "version": 3
   },
   "file_extension": ".py",
   "mimetype": "text/x-python",
   "name": "python",
   "nbconvert_exporter": "python",
   "pygments_lexer": "ipython3",
   "version": "3.10.4"
  }
 },
 "nbformat": 4,
 "nbformat_minor": 5
}
