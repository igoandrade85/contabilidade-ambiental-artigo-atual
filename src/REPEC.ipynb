{
 "cells": [
  {
   "cell_type": "markdown",
   "id": "df30e26c-9abf-40af-b2b1-d70c2d6ea61f",
   "metadata": {
    "tags": []
   },
   "source": [
    "# Revista de Educação e Pesquisa em Contabilidade – REPEC"
   ]
  },
  {
   "cell_type": "markdown",
   "id": "fe988f18-e6fb-4503-8332-86692bc5bda6",
   "metadata": {},
   "source": [
    "## Bibliotecas importadas"
   ]
  },
  {
   "cell_type": "code",
   "execution_count": 1,
   "id": "dab4dd4a-872c-472d-b7f6-3993f94fb82a",
   "metadata": {},
   "outputs": [],
   "source": [
    "import requests\n",
    "from bs4 import BeautifulSoup\n",
    "\n",
    "import pandas as pd"
   ]
  },
  {
   "cell_type": "markdown",
   "id": "e99d241f-0c72-426a-abbe-00f36ce44e00",
   "metadata": {
    "tags": []
   },
   "source": [
    "## Funções básicas"
   ]
  },
  {
   "cell_type": "code",
   "execution_count": 2,
   "id": "89c421a9-5768-4f88-9240-feba8e27f923",
   "metadata": {},
   "outputs": [],
   "source": [
    "def criar_query(key_word):\n",
    "    return \"+\".join(key_word.split())"
   ]
  },
  {
   "cell_type": "code",
   "execution_count": 3,
   "id": "eeb94304-948e-46e7-bf69-c7afc7fa701e",
   "metadata": {},
   "outputs": [],
   "source": [
    "def listar_links_pagina(url_search):\n",
    "    page = requests.get(url_search)\n",
    "    soup = BeautifulSoup(page.content, 'html.parser')\n",
    "    results = soup.find_all('h3', {'class': 'title'})\n",
    "    a_links = []\n",
    "    for item in results:\n",
    "        try:\n",
    "            remover_links = 'editorial' in item.find('a').text.lower()\n",
    "            remover_links = remover_links or 'folha de rosto' in item.find('a').text.lower()\n",
    "            remover_links = remover_links or 'dados da edição ' in item.find('a').text.lower()\n",
    "            if not remover_links:\n",
    "                a_links.append(item.find('a')['href'])\n",
    "        except:\n",
    "            pass\n",
    "    return a_links"
   ]
  },
  {
   "cell_type": "code",
   "execution_count": 4,
   "id": "1882f580-dee2-4890-9b3f-847ab27e0218",
   "metadata": {},
   "outputs": [],
   "source": [
    "def listar_links(url_search_text, query, pg_num=1):\n",
    "    a_links = [] \n",
    "    while True:\n",
    "        url_search = url_search_text.replace('__query__', query).replace('__pg_num__', str(pg_num))\n",
    "        tmp = listar_links_pagina(url_search)\n",
    "        if len(tmp) != 0:\n",
    "            pg_num += 1\n",
    "            a_links += tmp\n",
    "        else:\n",
    "            break\n",
    "    return a_links"
   ]
  },
  {
   "cell_type": "code",
   "execution_count": 5,
   "id": "7097f95b-7729-4e9e-9f2c-f576f603f890",
   "metadata": {},
   "outputs": [
    {
     "data": {
      "text/plain": [
       "'https://www.repec.org.br/repec/article/view/2382'"
      ]
     },
     "execution_count": 5,
     "metadata": {},
     "output_type": "execute_result"
    }
   ],
   "source": [
    "url_search_text = 'https://www.repec.org.br/repec/search/index?query=__query__&searchJournal=1&authors=&dateFromMonth=&dateFromDay=&dateFromYear=2012&dateToMonth=&dateToDay=&dateToYear=2021&searchPage=__pg_num__#results'\n",
    "\n",
    "links = listar_links(url_search_text, 'contabilidade+ambiental', pg_num=1)\n",
    "\n",
    "link = links[1]\n",
    "\n",
    "link\n"
   ]
  },
  {
   "cell_type": "code",
   "execution_count": 6,
   "id": "1fc03e9e-fe26-475c-af90-9c492611a1fd",
   "metadata": {},
   "outputs": [
    {
     "data": {
      "text/plain": [
       "['https://www.repec.org.br/repec/article/view/1928',\n",
       " 'https://www.repec.org.br/repec/article/view/2382']"
      ]
     },
     "execution_count": 6,
     "metadata": {},
     "output_type": "execute_result"
    }
   ],
   "source": [
    "links"
   ]
  },
  {
   "cell_type": "code",
   "execution_count": 7,
   "id": "7d2cc608-dc86-4bad-80d4-8a91e9539c80",
   "metadata": {},
   "outputs": [],
   "source": [
    "page = requests.get(link)\n",
    "soup = BeautifulSoup(page.content, 'html.parser')"
   ]
  },
  {
   "cell_type": "code",
   "execution_count": 8,
   "id": "505b1f20-e533-475b-99eb-b7c3e0f9f9a4",
   "metadata": {},
   "outputs": [],
   "source": [
    "def completar_lista(lista):\n",
    "    if len(lista) < 6:\n",
    "        lista += (6 - len(lista)) * ['']\n",
    "    return lista"
   ]
  },
  {
   "cell_type": "code",
   "execution_count": 9,
   "id": "9ac33966-ef09-4334-87c1-a5b1f64061a7",
   "metadata": {},
   "outputs": [],
   "source": [
    "def limpar_afiliacao(afiliacao):\n",
    "    afiliacao = ' '.join(afiliacao.split())\n",
    "    afiliacao = afiliacao.split(' - ')[0]\n",
    "    afiliacao = afiliacao.split('(')[0]\n",
    "    afiliacao = afiliacao.split('/')[0]\n",
    "    return afiliacao.strip()"
   ]
  },
  {
   "cell_type": "code",
   "execution_count": 10,
   "id": "380fbe5b-f745-404a-a766-62f9df21691e",
   "metadata": {},
   "outputs": [],
   "source": [
    "def captura_titulo(soup):\n",
    "    try:\n",
    "        title = soup.find('h1', {'class': 'page_title'}).text\n",
    "        title = ' '.join(title.split())\n",
    "    except:\n",
    "        title = ''\n",
    "    return {'Título': title}"
   ]
  },
  {
   "cell_type": "code",
   "execution_count": 11,
   "id": "d5b5e5d4-8e31-433d-a031-d56624420ff1",
   "metadata": {},
   "outputs": [
    {
     "data": {
      "text/plain": [
       "{'Título': 'INFLUÊNCIA DO DESEMPENHO ACADÊMICO NA PERCEPÇÃO DE JUSTIÇA NO AMBIENTE DE APRENDIZAGEM'}"
      ]
     },
     "execution_count": 11,
     "metadata": {},
     "output_type": "execute_result"
    }
   ],
   "source": [
    "captura_titulo(soup)"
   ]
  },
  {
   "cell_type": "code",
   "execution_count": 12,
   "id": "50468f30-b4ce-4213-8579-4af8ee579376",
   "metadata": {},
   "outputs": [],
   "source": [
    "def captura_data(soup):\n",
    "    try:\n",
    "        date_tag = soup.find('div', {'class': 'item published'})\n",
    "        date = date_tag.find('div', {'class': 'value'}).text\n",
    "        date = ' '.join(date.split())\n",
    "    except:\n",
    "        date = ''\n",
    "    return {'Data de Publicação': date[:10]}"
   ]
  },
  {
   "cell_type": "code",
   "execution_count": 13,
   "id": "713776bd-512c-453e-93c2-f88e57ab9049",
   "metadata": {},
   "outputs": [
    {
     "data": {
      "text/plain": [
       "{'Data de Publicação': '2019-12-20'}"
      ]
     },
     "execution_count": 13,
     "metadata": {},
     "output_type": "execute_result"
    }
   ],
   "source": [
    "captura_data(soup)"
   ]
  },
  {
   "cell_type": "code",
   "execution_count": 14,
   "id": "b230fedd-6d44-4a81-acf9-60e876529a31",
   "metadata": {},
   "outputs": [],
   "source": [
    "def captura_resumo(soup):\n",
    "    try:\n",
    "        abstract_section = soup.find('section', {'class': 'item abstract'})\n",
    "        abstract = abstract_section.text\n",
    "        abstract = abstract.replace('Resumo:', '')\n",
    "        abstract = abstract.replace('Resumo', '').strip()\n",
    "        #abstract = ' '.join(abstract.split())\n",
    "    except:\n",
    "        abstract = ''\n",
    "    return {'Resumo': abstract}"
   ]
  },
  {
   "cell_type": "code",
   "execution_count": 15,
   "id": "10ef7c76-896d-4862-ab1f-3b7bce77d5cd",
   "metadata": {},
   "outputs": [
    {
     "data": {
      "text/plain": [
       "{'Resumo': 'Objetivo: Buscar evidências que permitam identificar a relação existente entre o desempenho acadêmico de alunos de graduação em ciências contábeis e sua percepção de justiça acadêmica, segregadas nas dimensões distributiva, procedimental e interacional.\\nMétodo: Consiste em uma abordagem qualitativa e quantitativa, que teve como amostra 534 alunos de graduação de Ciências Contábeis de nove universidades federais mineiras. Para abordagem quantitativa foram aplicados questionários que buscaram captar a percepção de justiça em suas três dimensões (variáveis dependentes), o desempenho acadêmico (variável explicativa) e oito variáveis de controle. Para abordagem qualitativa foram realizadas entrevistas.\\nResultados: As análises quantitativas indicam que das nove variáveis testadas, apenas três variáveis se mostraram estatisticamente significativa: a variável gênero para a justiça procedimental, a variável turno para justiças procedimental e interacional e a variável reprovação para todas as três dimensões de justiça. Em termos qualitativos, os achados mostram que os alunos associam a justiça no ambiente de aprendizagem, de maneira geral, principalmente à figura do professor.\\nContribuições: O estudo contribui para a literatura no sentido de identificar como se dá o ambiente acadêmico pela ótica dos alunos, no que tange sua percepção de justiça, concluindo, que o relacionamento com o professor, influencia na sua percepção de justiça.'}"
      ]
     },
     "execution_count": 15,
     "metadata": {},
     "output_type": "execute_result"
    }
   ],
   "source": [
    "captura_resumo(soup)"
   ]
  },
  {
   "cell_type": "code",
   "execution_count": 16,
   "id": "f38caded-13c5-4c28-986d-f00660034281",
   "metadata": {},
   "outputs": [],
   "source": [
    "def captura_palavras_chave(soup):\n",
    "    try:\n",
    "        kw_section = soup.find('section', {'class': 'item keywords'})\n",
    "        kw = kw_section.text.replace('Palavras-chave:', '')\n",
    "        kw = ' '.join(kw.split())\n",
    "        kw = kw.replace(',', '.').replace(';', '.')\n",
    "    except:\n",
    "        kw = ''\n",
    "    if kw == '':\n",
    "        try:\n",
    "            kw_section = soup.find('section', {'class': 'item abstract'})\n",
    "            p_list = kw_section.find_all('p')\n",
    "            for p in p_list:\n",
    "                if 'Palavras-chave' in p.text:\n",
    "                    kw_full = p.text\n",
    "                    kw = kw_full.replace('Palavras-chave', '').replace(':', '')\n",
    "                    kw = ' '.join(kw.split())\n",
    "                    kw = kw.replace(',', '.').replace(';', '.')\n",
    "        except:\n",
    "            pass\n",
    "    return {'Palavras-chave': kw}"
   ]
  },
  {
   "cell_type": "code",
   "execution_count": 17,
   "id": "dd0c243f-9e6f-4fe8-8b95-5f02668a9bab",
   "metadata": {},
   "outputs": [
    {
     "data": {
      "text/plain": [
       "{'Palavras-chave': 'Justiça no Ambiente de Aprendizagem.. Ciências Contábeis.. Universidades Federais.'}"
      ]
     },
     "execution_count": 17,
     "metadata": {},
     "output_type": "execute_result"
    }
   ],
   "source": [
    "captura_palavras_chave(soup)"
   ]
  },
  {
   "cell_type": "code",
   "execution_count": 18,
   "id": "36367342-b031-4345-95a9-e843c9b3c5e9",
   "metadata": {},
   "outputs": [],
   "source": [
    "def captura_autores(soup):\n",
    "    autores = []\n",
    "    try:\n",
    "        authors_ul = soup.find('ul', {'class': 'authors'})\n",
    "        autores = authors_ul.find_all('span', {'class': 'name'})\n",
    "        autores = [' '.join(a.text.split()) for a in autores]\n",
    "    except:\n",
    "        pass\n",
    "    qtd_autores = len(autores)\n",
    "    autores = completar_lista(autores)\n",
    "    autores = [qtd_autores] + autores\n",
    "    \n",
    "    key_autores = [f\"Autor {i}\" for i in range(1, 7)]\n",
    "    key_autores = ['Qtd. de Autores'] + key_autores\n",
    "\n",
    "    return dict(zip(key_autores, autores))"
   ]
  },
  {
   "cell_type": "code",
   "execution_count": 19,
   "id": "446c26d9-2776-40a4-a401-2206368c2a80",
   "metadata": {},
   "outputs": [
    {
     "data": {
      "text/plain": [
       "{'Qtd. de Autores': 4,\n",
       " 'Autor 1': 'Karla Luisa Costa Sabino',\n",
       " 'Autor 2': 'Jacqueline Veneroso Alves da Cunha',\n",
       " 'Autor 3': 'Romualdo Douglas Colauto',\n",
       " 'Autor 4': 'José Roberto de Souza Francisco',\n",
       " 'Autor 5': '',\n",
       " 'Autor 6': ''}"
      ]
     },
     "execution_count": 19,
     "metadata": {},
     "output_type": "execute_result"
    }
   ],
   "source": [
    "captura_autores(soup)"
   ]
  },
  {
   "cell_type": "code",
   "execution_count": 20,
   "id": "2aa8fd49-3fe3-41fc-927f-bb933136d0e2",
   "metadata": {},
   "outputs": [],
   "source": [
    "def captura_afiliacao(soup):\n",
    "    afiliacao = []\n",
    "    try:\n",
    "        authors_ul = soup.find('ul', {'class': 'authors'})\n",
    "        afiliacao = authors_ul.find_all('span', {'class': 'affiliation'})\n",
    "        afiliacao = [' '.join(a.text.split()) for a in afiliacao]\n",
    "        afiliacao = [limpar_afiliacao(a) for a in afiliacao]\n",
    "    except:\n",
    "        pass\n",
    "    afiliacao = completar_lista(afiliacao)\n",
    "    \n",
    "    key_affiliation = [f\"Afiliação {i}\" for i in range(1, 7)]\n",
    "\n",
    "    return dict(zip(key_affiliation, afiliacao))"
   ]
  },
  {
   "cell_type": "code",
   "execution_count": 21,
   "id": "71fb68e9-1066-49bb-87e6-f23b16a2559d",
   "metadata": {},
   "outputs": [
    {
     "data": {
      "text/plain": [
       "{'Afiliação 1': 'Universidade Federal de Alfenas',\n",
       " 'Afiliação 2': 'Universidade Federal de Minas Gerais',\n",
       " 'Afiliação 3': 'Universidade Federal do Paraná',\n",
       " 'Afiliação 4': 'Universidade Federal de Minas Gerais',\n",
       " 'Afiliação 5': '',\n",
       " 'Afiliação 6': ''}"
      ]
     },
     "execution_count": 21,
     "metadata": {},
     "output_type": "execute_result"
    }
   ],
   "source": [
    "captura_afiliacao(soup)"
   ]
  },
  {
   "cell_type": "code",
   "execution_count": 22,
   "id": "7e8194b3-a261-43b5-aaf5-1510ee1d1b50",
   "metadata": {},
   "outputs": [],
   "source": [
    "def realizar_consulta(key_words_list):\n",
    "    periodico_nome_dict = {'Revista': 'Revista de Educação e Pesquisa em Contabilidade – REPEC'}\n",
    "    url_search_text = 'https://www.repec.org.br/repec/search/index?query=__query__&searchJournal=1&authors=&dateFromMonth=&dateFromDay=&dateFromYear=2012&dateToMonth=&dateToDay=&dateToYear=2021&searchPage=__pg_num__#results'\n",
    "    a_links = []\n",
    "    for key_word in key_words_list:\n",
    "        query = criar_query(key_word)\n",
    "        a_links += listar_links(url_search_text, query)\n",
    "        \n",
    "    resultados = []\n",
    "    for link in a_links:\n",
    "        link_dict = {'Url Artigo': link}\n",
    "        page = requests.get(link)\n",
    "        soup = BeautifulSoup(page.content, 'html.parser')\n",
    "        dict_artigo = {\n",
    "            **captura_data(soup),\n",
    "            **captura_titulo(soup),\n",
    "            **captura_resumo(soup),\n",
    "            **captura_palavras_chave(soup),\n",
    "            **captura_autores(soup),\n",
    "            **captura_afiliacao(soup),\n",
    "            **link_dict,\n",
    "            **periodico_nome_dict\n",
    "        }\n",
    "        resultados.append(dict_artigo)\n",
    "    df = pd.DataFrame(resultados)\n",
    "    df['Data de Publicação'] = pd.to_datetime(df['Data de Publicação'], format='%Y-%m-%d')\n",
    "    return df"
   ]
  },
  {
   "cell_type": "markdown",
   "id": "2b0abfd7-a392-42f5-a377-7b0db2717e3f",
   "metadata": {},
   "source": [
    "## Pesquisa por artigos"
   ]
  },
  {
   "cell_type": "code",
   "execution_count": 23,
   "id": "3fcf8092-c93f-4fb4-8624-8793be02c073",
   "metadata": {},
   "outputs": [
    {
     "data": {
      "text/html": [
       "<div>\n",
       "<style scoped>\n",
       "    .dataframe tbody tr th:only-of-type {\n",
       "        vertical-align: middle;\n",
       "    }\n",
       "\n",
       "    .dataframe tbody tr th {\n",
       "        vertical-align: top;\n",
       "    }\n",
       "\n",
       "    .dataframe thead th {\n",
       "        text-align: right;\n",
       "    }\n",
       "</style>\n",
       "<table border=\"1\" class=\"dataframe\">\n",
       "  <thead>\n",
       "    <tr style=\"text-align: right;\">\n",
       "      <th></th>\n",
       "      <th>Data de Publicação</th>\n",
       "      <th>Título</th>\n",
       "      <th>Resumo</th>\n",
       "      <th>Palavras-chave</th>\n",
       "      <th>Qtd. de Autores</th>\n",
       "      <th>Autor 1</th>\n",
       "      <th>Autor 2</th>\n",
       "      <th>Autor 3</th>\n",
       "      <th>Autor 4</th>\n",
       "      <th>Autor 5</th>\n",
       "      <th>Autor 6</th>\n",
       "      <th>Afiliação 1</th>\n",
       "      <th>Afiliação 2</th>\n",
       "      <th>Afiliação 3</th>\n",
       "      <th>Afiliação 4</th>\n",
       "      <th>Afiliação 5</th>\n",
       "      <th>Afiliação 6</th>\n",
       "      <th>Url Artigo</th>\n",
       "      <th>Revista</th>\n",
       "    </tr>\n",
       "  </thead>\n",
       "  <tbody>\n",
       "    <tr>\n",
       "      <th>0</th>\n",
       "      <td>2019-06-24</td>\n",
       "      <td>FATORES CONTINGENCIAIS EXTERNOS E A MENSURAÇÃO...</td>\n",
       "      <td>Objetivo: Analisar as relações entre os fatore...</td>\n",
       "      <td>Fatores contingenciais externos. Mensuração de...</td>\n",
       "      <td>2</td>\n",
       "      <td>Alan Santos de Oliveira</td>\n",
       "      <td>Antônio André Cunha Callado</td>\n",
       "      <td></td>\n",
       "      <td></td>\n",
       "      <td></td>\n",
       "      <td></td>\n",
       "      <td>Universidade Federal do Ceará</td>\n",
       "      <td>Universidade Federal Rural de Pernambuco</td>\n",
       "      <td></td>\n",
       "      <td></td>\n",
       "      <td></td>\n",
       "      <td></td>\n",
       "      <td>https://www.repec.org.br/repec/article/view/1928</td>\n",
       "      <td>Revista de Educação e Pesquisa em Contabilidad...</td>\n",
       "    </tr>\n",
       "    <tr>\n",
       "      <th>1</th>\n",
       "      <td>2019-12-20</td>\n",
       "      <td>INFLUÊNCIA DO DESEMPENHO ACADÊMICO NA PERCEPÇÃ...</td>\n",
       "      <td>Objetivo: Buscar evidências que permitam ident...</td>\n",
       "      <td>Justiça no Ambiente de Aprendizagem.. Ciências...</td>\n",
       "      <td>4</td>\n",
       "      <td>Karla Luisa Costa Sabino</td>\n",
       "      <td>Jacqueline Veneroso Alves da Cunha</td>\n",
       "      <td>Romualdo Douglas Colauto</td>\n",
       "      <td>José Roberto de Souza Francisco</td>\n",
       "      <td></td>\n",
       "      <td></td>\n",
       "      <td>Universidade Federal de Alfenas</td>\n",
       "      <td>Universidade Federal de Minas Gerais</td>\n",
       "      <td>Universidade Federal do Paraná</td>\n",
       "      <td>Universidade Federal de Minas Gerais</td>\n",
       "      <td></td>\n",
       "      <td></td>\n",
       "      <td>https://www.repec.org.br/repec/article/view/2382</td>\n",
       "      <td>Revista de Educação e Pesquisa em Contabilidad...</td>\n",
       "    </tr>\n",
       "    <tr>\n",
       "      <th>2</th>\n",
       "      <td>2021-07-01</td>\n",
       "      <td>INSERÇÃO DO TEMA SUSTENTABILIDADE NO CURSO DE ...</td>\n",
       "      <td>Objetivo: compreender o processo de institucio...</td>\n",
       "      <td>Teoria Institucional. Sustentabilidade. Ensino...</td>\n",
       "      <td>3</td>\n",
       "      <td>Karina Rocha Henriques Gehlen</td>\n",
       "      <td>Luciano Gomes dos Reis</td>\n",
       "      <td>Kelli Juliane Favato</td>\n",
       "      <td></td>\n",
       "      <td></td>\n",
       "      <td></td>\n",
       "      <td>Faculdade Positivo</td>\n",
       "      <td>Universidade Estadual de Londrina</td>\n",
       "      <td>Universidade Federal do Paraná</td>\n",
       "      <td></td>\n",
       "      <td></td>\n",
       "      <td></td>\n",
       "      <td>https://www.repec.org.br/repec/article/view/2666</td>\n",
       "      <td>Revista de Educação e Pesquisa em Contabilidad...</td>\n",
       "    </tr>\n",
       "  </tbody>\n",
       "</table>\n",
       "</div>"
      ],
      "text/plain": [
       "  Data de Publicação                                             Título  \\\n",
       "0         2019-06-24  FATORES CONTINGENCIAIS EXTERNOS E A MENSURAÇÃO...   \n",
       "1         2019-12-20  INFLUÊNCIA DO DESEMPENHO ACADÊMICO NA PERCEPÇÃ...   \n",
       "2         2021-07-01  INSERÇÃO DO TEMA SUSTENTABILIDADE NO CURSO DE ...   \n",
       "\n",
       "                                              Resumo  \\\n",
       "0  Objetivo: Analisar as relações entre os fatore...   \n",
       "1  Objetivo: Buscar evidências que permitam ident...   \n",
       "2  Objetivo: compreender o processo de institucio...   \n",
       "\n",
       "                                      Palavras-chave  Qtd. de Autores  \\\n",
       "0  Fatores contingenciais externos. Mensuração de...                2   \n",
       "1  Justiça no Ambiente de Aprendizagem.. Ciências...                4   \n",
       "2  Teoria Institucional. Sustentabilidade. Ensino...                3   \n",
       "\n",
       "                         Autor 1                             Autor 2  \\\n",
       "0        Alan Santos de Oliveira         Antônio André Cunha Callado   \n",
       "1       Karla Luisa Costa Sabino  Jacqueline Veneroso Alves da Cunha   \n",
       "2  Karina Rocha Henriques Gehlen              Luciano Gomes dos Reis   \n",
       "\n",
       "                    Autor 3                          Autor 4 Autor 5 Autor 6  \\\n",
       "0                                                                              \n",
       "1  Romualdo Douglas Colauto  José Roberto de Souza Francisco                   \n",
       "2      Kelli Juliane Favato                                                    \n",
       "\n",
       "                       Afiliação 1                               Afiliação 2  \\\n",
       "0    Universidade Federal do Ceará  Universidade Federal Rural de Pernambuco   \n",
       "1  Universidade Federal de Alfenas      Universidade Federal de Minas Gerais   \n",
       "2               Faculdade Positivo         Universidade Estadual de Londrina   \n",
       "\n",
       "                      Afiliação 3                           Afiliação 4  \\\n",
       "0                                                                         \n",
       "1  Universidade Federal do Paraná  Universidade Federal de Minas Gerais   \n",
       "2  Universidade Federal do Paraná                                         \n",
       "\n",
       "  Afiliação 5 Afiliação 6                                        Url Artigo  \\\n",
       "0                          https://www.repec.org.br/repec/article/view/1928   \n",
       "1                          https://www.repec.org.br/repec/article/view/2382   \n",
       "2                          https://www.repec.org.br/repec/article/view/2666   \n",
       "\n",
       "                                             Revista  \n",
       "0  Revista de Educação e Pesquisa em Contabilidad...  \n",
       "1  Revista de Educação e Pesquisa em Contabilidad...  \n",
       "2  Revista de Educação e Pesquisa em Contabilidad...  "
      ]
     },
     "execution_count": 23,
     "metadata": {},
     "output_type": "execute_result"
    }
   ],
   "source": [
    "key_words_list = ['contabilidade ambiental', 'balanço social', 'relato integrado', 'nbct 15']\n",
    "df = realizar_consulta(key_words_list)\n",
    "df.head(3)"
   ]
  },
  {
   "cell_type": "code",
   "execution_count": 24,
   "id": "71233ca3-6bf8-40f7-88e5-bc015740d7e4",
   "metadata": {},
   "outputs": [],
   "source": [
    "df.to_csv('../data/REPEC.csv', index=False)"
   ]
  },
  {
   "cell_type": "code",
   "execution_count": 25,
   "id": "57e11bb8-3d23-4d86-b0b7-99e98da8b196",
   "metadata": {},
   "outputs": [
    {
     "data": {
      "text/html": [
       "<div>\n",
       "<style scoped>\n",
       "    .dataframe tbody tr th:only-of-type {\n",
       "        vertical-align: middle;\n",
       "    }\n",
       "\n",
       "    .dataframe tbody tr th {\n",
       "        vertical-align: top;\n",
       "    }\n",
       "\n",
       "    .dataframe thead th {\n",
       "        text-align: right;\n",
       "    }\n",
       "</style>\n",
       "<table border=\"1\" class=\"dataframe\">\n",
       "  <thead>\n",
       "    <tr style=\"text-align: right;\">\n",
       "      <th></th>\n",
       "      <th>Data de Publicação</th>\n",
       "      <th>Título</th>\n",
       "      <th>Resumo</th>\n",
       "      <th>Palavras-chave</th>\n",
       "      <th>Qtd. de Autores</th>\n",
       "      <th>Autor 1</th>\n",
       "      <th>Autor 2</th>\n",
       "      <th>Autor 3</th>\n",
       "      <th>Autor 4</th>\n",
       "      <th>Autor 5</th>\n",
       "      <th>Autor 6</th>\n",
       "      <th>Afiliação 1</th>\n",
       "      <th>Afiliação 2</th>\n",
       "      <th>Afiliação 3</th>\n",
       "      <th>Afiliação 4</th>\n",
       "      <th>Afiliação 5</th>\n",
       "      <th>Afiliação 6</th>\n",
       "      <th>Url Artigo</th>\n",
       "      <th>Revista</th>\n",
       "    </tr>\n",
       "  </thead>\n",
       "  <tbody>\n",
       "    <tr>\n",
       "      <th>0</th>\n",
       "      <td>2019-06-24</td>\n",
       "      <td>FATORES CONTINGENCIAIS EXTERNOS E A MENSURAÇÃO...</td>\n",
       "      <td>Objetivo: Analisar as relações entre os fatore...</td>\n",
       "      <td>Fatores contingenciais externos. Mensuração de...</td>\n",
       "      <td>2</td>\n",
       "      <td>Alan Santos de Oliveira</td>\n",
       "      <td>Antônio André Cunha Callado</td>\n",
       "      <td></td>\n",
       "      <td></td>\n",
       "      <td></td>\n",
       "      <td></td>\n",
       "      <td>Universidade Federal do Ceará</td>\n",
       "      <td>Universidade Federal Rural de Pernambuco</td>\n",
       "      <td></td>\n",
       "      <td></td>\n",
       "      <td></td>\n",
       "      <td></td>\n",
       "      <td>https://www.repec.org.br/repec/article/view/1928</td>\n",
       "      <td>Revista de Educação e Pesquisa em Contabilidad...</td>\n",
       "    </tr>\n",
       "    <tr>\n",
       "      <th>1</th>\n",
       "      <td>2019-12-20</td>\n",
       "      <td>INFLUÊNCIA DO DESEMPENHO ACADÊMICO NA PERCEPÇÃ...</td>\n",
       "      <td>Objetivo: Buscar evidências que permitam ident...</td>\n",
       "      <td>Justiça no Ambiente de Aprendizagem.. Ciências...</td>\n",
       "      <td>4</td>\n",
       "      <td>Karla Luisa Costa Sabino</td>\n",
       "      <td>Jacqueline Veneroso Alves da Cunha</td>\n",
       "      <td>Romualdo Douglas Colauto</td>\n",
       "      <td>José Roberto de Souza Francisco</td>\n",
       "      <td></td>\n",
       "      <td></td>\n",
       "      <td>Universidade Federal de Alfenas</td>\n",
       "      <td>Universidade Federal de Minas Gerais</td>\n",
       "      <td>Universidade Federal do Paraná</td>\n",
       "      <td>Universidade Federal de Minas Gerais</td>\n",
       "      <td></td>\n",
       "      <td></td>\n",
       "      <td>https://www.repec.org.br/repec/article/view/2382</td>\n",
       "      <td>Revista de Educação e Pesquisa em Contabilidad...</td>\n",
       "    </tr>\n",
       "    <tr>\n",
       "      <th>2</th>\n",
       "      <td>2021-07-01</td>\n",
       "      <td>INSERÇÃO DO TEMA SUSTENTABILIDADE NO CURSO DE ...</td>\n",
       "      <td>Objetivo: compreender o processo de institucio...</td>\n",
       "      <td>Teoria Institucional. Sustentabilidade. Ensino...</td>\n",
       "      <td>3</td>\n",
       "      <td>Karina Rocha Henriques Gehlen</td>\n",
       "      <td>Luciano Gomes dos Reis</td>\n",
       "      <td>Kelli Juliane Favato</td>\n",
       "      <td></td>\n",
       "      <td></td>\n",
       "      <td></td>\n",
       "      <td>Faculdade Positivo</td>\n",
       "      <td>Universidade Estadual de Londrina</td>\n",
       "      <td>Universidade Federal do Paraná</td>\n",
       "      <td></td>\n",
       "      <td></td>\n",
       "      <td></td>\n",
       "      <td>https://www.repec.org.br/repec/article/view/2666</td>\n",
       "      <td>Revista de Educação e Pesquisa em Contabilidad...</td>\n",
       "    </tr>\n",
       "  </tbody>\n",
       "</table>\n",
       "</div>"
      ],
      "text/plain": [
       "  Data de Publicação                                             Título  \\\n",
       "0         2019-06-24  FATORES CONTINGENCIAIS EXTERNOS E A MENSURAÇÃO...   \n",
       "1         2019-12-20  INFLUÊNCIA DO DESEMPENHO ACADÊMICO NA PERCEPÇÃ...   \n",
       "2         2021-07-01  INSERÇÃO DO TEMA SUSTENTABILIDADE NO CURSO DE ...   \n",
       "\n",
       "                                              Resumo  \\\n",
       "0  Objetivo: Analisar as relações entre os fatore...   \n",
       "1  Objetivo: Buscar evidências que permitam ident...   \n",
       "2  Objetivo: compreender o processo de institucio...   \n",
       "\n",
       "                                      Palavras-chave  Qtd. de Autores  \\\n",
       "0  Fatores contingenciais externos. Mensuração de...                2   \n",
       "1  Justiça no Ambiente de Aprendizagem.. Ciências...                4   \n",
       "2  Teoria Institucional. Sustentabilidade. Ensino...                3   \n",
       "\n",
       "                         Autor 1                             Autor 2  \\\n",
       "0        Alan Santos de Oliveira         Antônio André Cunha Callado   \n",
       "1       Karla Luisa Costa Sabino  Jacqueline Veneroso Alves da Cunha   \n",
       "2  Karina Rocha Henriques Gehlen              Luciano Gomes dos Reis   \n",
       "\n",
       "                    Autor 3                          Autor 4 Autor 5 Autor 6  \\\n",
       "0                                                                              \n",
       "1  Romualdo Douglas Colauto  José Roberto de Souza Francisco                   \n",
       "2      Kelli Juliane Favato                                                    \n",
       "\n",
       "                       Afiliação 1                               Afiliação 2  \\\n",
       "0    Universidade Federal do Ceará  Universidade Federal Rural de Pernambuco   \n",
       "1  Universidade Federal de Alfenas      Universidade Federal de Minas Gerais   \n",
       "2               Faculdade Positivo         Universidade Estadual de Londrina   \n",
       "\n",
       "                      Afiliação 3                           Afiliação 4  \\\n",
       "0                                                                         \n",
       "1  Universidade Federal do Paraná  Universidade Federal de Minas Gerais   \n",
       "2  Universidade Federal do Paraná                                         \n",
       "\n",
       "  Afiliação 5 Afiliação 6                                        Url Artigo  \\\n",
       "0                          https://www.repec.org.br/repec/article/view/1928   \n",
       "1                          https://www.repec.org.br/repec/article/view/2382   \n",
       "2                          https://www.repec.org.br/repec/article/view/2666   \n",
       "\n",
       "                                             Revista  \n",
       "0  Revista de Educação e Pesquisa em Contabilidad...  \n",
       "1  Revista de Educação e Pesquisa em Contabilidad...  \n",
       "2  Revista de Educação e Pesquisa em Contabilidad...  "
      ]
     },
     "execution_count": 25,
     "metadata": {},
     "output_type": "execute_result"
    }
   ],
   "source": [
    "df"
   ]
  },
  {
   "cell_type": "code",
   "execution_count": null,
   "id": "4ba6bd49-1e54-4df3-9764-0e147eaf9291",
   "metadata": {},
   "outputs": [],
   "source": []
  }
 ],
 "metadata": {
  "kernelspec": {
   "display_name": "venv",
   "language": "python",
   "name": "venv"
  },
  "language_info": {
   "codemirror_mode": {
    "name": "ipython",
    "version": 3
   },
   "file_extension": ".py",
   "mimetype": "text/x-python",
   "name": "python",
   "nbconvert_exporter": "python",
   "pygments_lexer": "ipython3",
   "version": "3.10.4"
  }
 },
 "nbformat": 4,
 "nbformat_minor": 5
}
