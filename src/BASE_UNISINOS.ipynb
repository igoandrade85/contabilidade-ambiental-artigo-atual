{
 "cells": [
  {
   "cell_type": "markdown",
   "id": "df30e26c-9abf-40af-b2b1-d70c2d6ea61f",
   "metadata": {
    "tags": []
   },
   "source": [
    "# BASE (UNISINOS)"
   ]
  },
  {
   "cell_type": "markdown",
   "id": "fe988f18-e6fb-4503-8332-86692bc5bda6",
   "metadata": {},
   "source": [
    "## Bibliotecas importadas"
   ]
  },
  {
   "cell_type": "code",
   "execution_count": 1,
   "id": "dab4dd4a-872c-472d-b7f6-3993f94fb82a",
   "metadata": {},
   "outputs": [],
   "source": [
    "import requests\n",
    "from bs4 import BeautifulSoup\n",
    "\n",
    "import pandas as pd"
   ]
  },
  {
   "cell_type": "markdown",
   "id": "e99d241f-0c72-426a-abbe-00f36ce44e00",
   "metadata": {
    "tags": []
   },
   "source": [
    "## Funções básicas"
   ]
  },
  {
   "cell_type": "code",
   "execution_count": 2,
   "id": "89c421a9-5768-4f88-9240-feba8e27f923",
   "metadata": {},
   "outputs": [],
   "source": [
    "def criar_query(key_word):\n",
    "    return \"+\".join(key_word.split())"
   ]
  },
  {
   "cell_type": "code",
   "execution_count": 3,
   "id": "eeb94304-948e-46e7-bf69-c7afc7fa701e",
   "metadata": {},
   "outputs": [],
   "source": [
    "def listar_links_pagina(url_search):\n",
    "    page = requests.get(url_search)\n",
    "    soup = BeautifulSoup(page.content, 'html.parser')\n",
    "    results = soup.find_all('h2', {'class': 'title'})\n",
    "    a_links = []\n",
    "    for item in results:\n",
    "        try:\n",
    "            remover_links = 'editorial' in item.find('a').text.lower()\n",
    "            remover_links = remover_links or 'folha de rosto' in item.find('a').text.lower()\n",
    "            remover_links = remover_links or 'dados da edição ' in item.find('a').text.lower()\n",
    "            if not remover_links:\n",
    "                a_links.append(item.find('a')['href'])\n",
    "        except:\n",
    "            pass\n",
    "    return a_links"
   ]
  },
  {
   "cell_type": "code",
   "execution_count": 4,
   "id": "1882f580-dee2-4890-9b3f-847ab27e0218",
   "metadata": {},
   "outputs": [],
   "source": [
    "def listar_links(url_search_text, query, pg_num=1):\n",
    "    a_links = [] \n",
    "    while True:\n",
    "        url_search = url_search_text.replace('__query__', query).replace('__pg_num__', str(pg_num))\n",
    "        tmp = listar_links_pagina(url_search)\n",
    "        if len(tmp) != 0:\n",
    "            pg_num += 1\n",
    "            a_links += tmp\n",
    "        else:\n",
    "            break\n",
    "    return a_links"
   ]
  },
  {
   "cell_type": "code",
   "execution_count": 5,
   "id": "7097f95b-7729-4e9e-9f2c-f576f603f890",
   "metadata": {},
   "outputs": [
    {
     "data": {
      "text/plain": [
       "'http://revistas.unisinos.br/index.php/base/article/view/19555'"
      ]
     },
     "execution_count": 5,
     "metadata": {},
     "output_type": "execute_result"
    }
   ],
   "source": [
    "url_search_text = 'http://revistas.unisinos.br/index.php/base/search/search?query=__query__&searchJournal=3&authors=&title=&abstract=&galleyFullText=&discipline=&subject=&type=&coverage=&indexTerms=&dateFromMonth=01&dateFromDay=1&dateFromYear=2012&dateToMonth=12&dateToDay=31&dateToYear=2021&orderBy=score&orderDir=desc&searchPage=__pg_num__#results'\n",
    "\n",
    "links = listar_links(url_search_text, 'contabilidade+ambiental', pg_num=1)\n",
    "\n",
    "link = links[0]\n",
    "\n",
    "link\n"
   ]
  },
  {
   "cell_type": "code",
   "execution_count": 6,
   "id": "1fc03e9e-fe26-475c-af90-9c492611a1fd",
   "metadata": {},
   "outputs": [
    {
     "data": {
      "text/plain": [
       "['http://revistas.unisinos.br/index.php/base/article/view/19555']"
      ]
     },
     "execution_count": 6,
     "metadata": {},
     "output_type": "execute_result"
    }
   ],
   "source": [
    "links"
   ]
  },
  {
   "cell_type": "code",
   "execution_count": 7,
   "id": "7d2cc608-dc86-4bad-80d4-8a91e9539c80",
   "metadata": {},
   "outputs": [],
   "source": [
    "page = requests.get(link)\n",
    "soup = BeautifulSoup(page.content, 'html.parser')"
   ]
  },
  {
   "cell_type": "code",
   "execution_count": 8,
   "id": "505b1f20-e533-475b-99eb-b7c3e0f9f9a4",
   "metadata": {},
   "outputs": [],
   "source": [
    "def completar_lista(lista):\n",
    "    if len(lista) < 6:\n",
    "        lista += (6 - len(lista)) * ['']\n",
    "    return lista"
   ]
  },
  {
   "cell_type": "code",
   "execution_count": 9,
   "id": "9ac33966-ef09-4334-87c1-a5b1f64061a7",
   "metadata": {},
   "outputs": [],
   "source": [
    "def limpar_afiliacao(afiliacao):\n",
    "    afiliacao = ' '.join(afiliacao.split())\n",
    "    afiliacao = afiliacao.split(',')[0]\n",
    "    afiliacao = afiliacao.split(' - ')[0]\n",
    "    afiliacao = afiliacao.split('(')[0]\n",
    "    afiliacao = afiliacao.split('/')[0]\n",
    "    return afiliacao.strip()"
   ]
  },
  {
   "cell_type": "code",
   "execution_count": 10,
   "id": "380fbe5b-f745-404a-a766-62f9df21691e",
   "metadata": {},
   "outputs": [],
   "source": [
    "def captura_titulo(soup):\n",
    "    try:\n",
    "        title = soup.find('h1', {'class': 'page_title'}).text\n",
    "        title = ' '.join(title.split())\n",
    "    except:\n",
    "        title = ''\n",
    "    return {'Título': title}"
   ]
  },
  {
   "cell_type": "code",
   "execution_count": 11,
   "id": "d5b5e5d4-8e31-433d-a031-d56624420ff1",
   "metadata": {},
   "outputs": [
    {
     "data": {
      "text/plain": [
       "{'Título': 'The Impact of Product Diversity on the Relationship Between Internationalization and Performance of Brazilian Multinational Companies'}"
      ]
     },
     "execution_count": 11,
     "metadata": {},
     "output_type": "execute_result"
    }
   ],
   "source": [
    "captura_titulo(soup)"
   ]
  },
  {
   "cell_type": "code",
   "execution_count": 12,
   "id": "50468f30-b4ce-4213-8579-4af8ee579376",
   "metadata": {},
   "outputs": [],
   "source": [
    "def captura_data(soup):\n",
    "    try:\n",
    "        date_tag = soup.find('div', {'class': 'item published'})\n",
    "        date = date_tag.find('div', {'class': 'value'}).text\n",
    "        date = ' '.join(date.split())\n",
    "    except:\n",
    "        date = ''\n",
    "    return {'Data de Publicação': date[:10]}"
   ]
  },
  {
   "cell_type": "code",
   "execution_count": 13,
   "id": "713776bd-512c-453e-93c2-f88e57ab9049",
   "metadata": {},
   "outputs": [
    {
     "data": {
      "text/plain": [
       "{'Data de Publicação': '2021-08-17'}"
      ]
     },
     "execution_count": 13,
     "metadata": {},
     "output_type": "execute_result"
    }
   ],
   "source": [
    "captura_data(soup)"
   ]
  },
  {
   "cell_type": "code",
   "execution_count": 14,
   "id": "b230fedd-6d44-4a81-acf9-60e876529a31",
   "metadata": {},
   "outputs": [],
   "source": [
    "def captura_resumo(soup):\n",
    "    try:\n",
    "        abstract_section = soup.find('section', {'class': 'item abstract'})\n",
    "        abstract = abstract_section.text\n",
    "        abstract = abstract.replace('Abstract:', '')\n",
    "        abstract = abstract.replace('Abstract', '').strip()\n",
    "        #abstract = ' '.join(abstract.split())\n",
    "    except:\n",
    "        abstract = ''\n",
    "    return {'Resumo': abstract}"
   ]
  },
  {
   "cell_type": "code",
   "execution_count": 15,
   "id": "10ef7c76-896d-4862-ab1f-3b7bce77d5cd",
   "metadata": {},
   "outputs": [
    {
     "data": {
      "text/plain": [
       "{'Resumo': 'The aim of this study was to investigate the moderating role of product diversification in the relationship between internationalization and the performance of Brazilian multinational companies. This study used internationalization data collected in reports from Fundação Dom Cabral, financial data collected in the Economática database, in addition to secondary data from 33 Brazilian companies collected on the website of the Brazilian Securities and Exchange Commission (CVM). The work refers to an eight-year period (2010 to 2017), and used multiple linear regression with fixed effects and panel data. It was identified that the relationship between internationalization and performance of multinational Brazilian companies occurs in a U shape. Furthermore, a negative moderating role was identified in the relationship between product diversification and low-level internationalization, and a positive moderating effect on the performance of Brazilian companies internationalized with a high degree of product diversification. The present work innovated this theme for Brazilian literature by focusing on the moderating effect of product diversity. In addition, the article has implications for Brazilian multinational companies, as it can assist planning related to their international expansion, and also highlights that the beneficial effects of internationalization are not immediate; that the knowledge and experiences acquired in this process are important to improve its performance; and that after initial stages of the internationalization process, product diversification can help with an improvement in the performance of these companies.'}"
      ]
     },
     "execution_count": 15,
     "metadata": {},
     "output_type": "execute_result"
    }
   ],
   "source": [
    "captura_resumo(soup)"
   ]
  },
  {
   "cell_type": "code",
   "execution_count": 16,
   "id": "f38caded-13c5-4c28-986d-f00660034281",
   "metadata": {},
   "outputs": [],
   "source": [
    "def captura_palavras_chave(soup):\n",
    "    try:\n",
    "        kw_section = soup.find('section', {'class': 'item keywords'})\n",
    "        kw = kw_section.text.replace('Keywords:', '')\n",
    "        kw = ' '.join(kw.split())\n",
    "        kw = kw.replace(',', '.').replace(';', '.')\n",
    "    except:\n",
    "        kw = ''\n",
    "    if kw == '':\n",
    "        try:\n",
    "            kw_section = soup.find('section', {'class': 'item abstract'})\n",
    "            p_list = kw_section.find_all('p')\n",
    "            for p in p_list:\n",
    "                if 'Palavras-chave' in p.text:\n",
    "                    kw_full = p.text\n",
    "                    kw = kw_full.replace('Palavras-chave', '').replace(':', '')\n",
    "                    kw = ' '.join(kw.split())\n",
    "                    kw = kw.replace(',', '.').replace(';', '.')\n",
    "        except:\n",
    "            pass\n",
    "    return {'Palavras-chave': kw}"
   ]
  },
  {
   "cell_type": "code",
   "execution_count": 17,
   "id": "dd0c243f-9e6f-4fe8-8b95-5f02668a9bab",
   "metadata": {},
   "outputs": [
    {
     "data": {
      "text/plain": [
       "{'Palavras-chave': 'Internacionalization. Performance. Product diversification. Role moderator'}"
      ]
     },
     "execution_count": 17,
     "metadata": {},
     "output_type": "execute_result"
    }
   ],
   "source": [
    "captura_palavras_chave(soup)"
   ]
  },
  {
   "cell_type": "code",
   "execution_count": 18,
   "id": "36367342-b031-4345-95a9-e843c9b3c5e9",
   "metadata": {},
   "outputs": [],
   "source": [
    "def captura_autores(soup):\n",
    "    autores = []\n",
    "    try:\n",
    "        authors_ul = soup.find('ul', {'class': 'authors'})\n",
    "        autores = authors_ul.find_all('span', {'class': 'name'})\n",
    "        autores = [' '.join(a.text.split()) for a in autores]\n",
    "    except:\n",
    "        pass\n",
    "    qtd_autores = len(autores)\n",
    "    autores = completar_lista(autores)\n",
    "    autores = [qtd_autores] + autores\n",
    "    \n",
    "    key_autores = [f\"Autor {i}\" for i in range(1, 7)]\n",
    "    key_autores = ['Qtd. de Autores'] + key_autores\n",
    "\n",
    "    return dict(zip(key_autores, autores))"
   ]
  },
  {
   "cell_type": "code",
   "execution_count": 19,
   "id": "446c26d9-2776-40a4-a401-2206368c2a80",
   "metadata": {},
   "outputs": [
    {
     "data": {
      "text/plain": [
       "{'Qtd. de Autores': 3,\n",
       " 'Autor 1': 'Vitor Fonseca Machado Beling Dias',\n",
       " 'Autor 2': 'Antônio Sergio Torres Penedo',\n",
       " 'Autor 3': 'Vinicius Silva Pereira',\n",
       " 'Autor 4': '',\n",
       " 'Autor 5': '',\n",
       " 'Autor 6': ''}"
      ]
     },
     "execution_count": 19,
     "metadata": {},
     "output_type": "execute_result"
    }
   ],
   "source": [
    "captura_autores(soup)"
   ]
  },
  {
   "cell_type": "code",
   "execution_count": 20,
   "id": "2aa8fd49-3fe3-41fc-927f-bb933136d0e2",
   "metadata": {},
   "outputs": [],
   "source": [
    "def captura_afiliacao(soup):\n",
    "    afiliacao = []\n",
    "    try:\n",
    "        authors_ul = soup.find('ul', {'class': 'authors'})\n",
    "        afiliacao = authors_ul.find_all('span', {'class': 'affiliation'})\n",
    "        afiliacao = [' '.join(a.text.split()) for a in afiliacao]\n",
    "        afiliacao = [limpar_afiliacao(a) for a in afiliacao]\n",
    "    except:\n",
    "        pass\n",
    "    afiliacao = completar_lista(afiliacao)\n",
    "    \n",
    "    key_affiliation = [f\"Afiliação {i}\" for i in range(1, 7)]\n",
    "\n",
    "    return dict(zip(key_affiliation, afiliacao))"
   ]
  },
  {
   "cell_type": "code",
   "execution_count": 21,
   "id": "71fb68e9-1066-49bb-87e6-f23b16a2559d",
   "metadata": {},
   "outputs": [
    {
     "data": {
      "text/plain": [
       "{'Afiliação 1': 'Universidade Federal de Uberlândia',\n",
       " 'Afiliação 2': 'Universidade Federal de Uberlândia',\n",
       " 'Afiliação 3': 'Universidade Federal de Uberlândia',\n",
       " 'Afiliação 4': '',\n",
       " 'Afiliação 5': '',\n",
       " 'Afiliação 6': ''}"
      ]
     },
     "execution_count": 21,
     "metadata": {},
     "output_type": "execute_result"
    }
   ],
   "source": [
    "captura_afiliacao(soup)"
   ]
  },
  {
   "cell_type": "code",
   "execution_count": 22,
   "id": "7e8194b3-a261-43b5-aaf5-1510ee1d1b50",
   "metadata": {},
   "outputs": [],
   "source": [
    "def realizar_consulta(key_words_list):\n",
    "    periodico_nome_dict = {'Revista': 'BASE (UNISINOS)'}\n",
    "    url_search_text = 'http://revistas.unisinos.br/index.php/base/search/search?query=__query__&searchJournal=3&authors=&title=&abstract=&galleyFullText=&discipline=&subject=&type=&coverage=&indexTerms=&dateFromMonth=01&dateFromDay=1&dateFromYear=2012&dateToMonth=12&dateToDay=31&dateToYear=2021&orderBy=score&orderDir=desc&searchPage=__pg_num__#results'\n",
    "    a_links = []\n",
    "    for key_word in key_words_list:\n",
    "        query = criar_query(key_word)\n",
    "        a_links += listar_links(url_search_text, query)\n",
    "        \n",
    "    resultados = []\n",
    "    for link in a_links:\n",
    "        link_dict = {'Url Artigo': link}\n",
    "        page = requests.get(link)\n",
    "        soup = BeautifulSoup(page.content, 'html.parser')\n",
    "        dict_artigo = {\n",
    "            **captura_data(soup),\n",
    "            **captura_titulo(soup),\n",
    "            **captura_resumo(soup),\n",
    "            **captura_palavras_chave(soup),\n",
    "            **captura_autores(soup),\n",
    "            **captura_afiliacao(soup),\n",
    "            **link_dict,\n",
    "            **periodico_nome_dict\n",
    "        }\n",
    "        resultados.append(dict_artigo)\n",
    "    df = pd.DataFrame(resultados)\n",
    "    df['Data de Publicação'] = pd.to_datetime(df['Data de Publicação'], format='%Y-%m-%d')\n",
    "    return df"
   ]
  },
  {
   "cell_type": "markdown",
   "id": "2b0abfd7-a392-42f5-a377-7b0db2717e3f",
   "metadata": {},
   "source": [
    "## Pesquisa por artigos"
   ]
  },
  {
   "cell_type": "code",
   "execution_count": 23,
   "id": "3fcf8092-c93f-4fb4-8624-8793be02c073",
   "metadata": {},
   "outputs": [
    {
     "data": {
      "text/html": [
       "<div>\n",
       "<style scoped>\n",
       "    .dataframe tbody tr th:only-of-type {\n",
       "        vertical-align: middle;\n",
       "    }\n",
       "\n",
       "    .dataframe tbody tr th {\n",
       "        vertical-align: top;\n",
       "    }\n",
       "\n",
       "    .dataframe thead th {\n",
       "        text-align: right;\n",
       "    }\n",
       "</style>\n",
       "<table border=\"1\" class=\"dataframe\">\n",
       "  <thead>\n",
       "    <tr style=\"text-align: right;\">\n",
       "      <th></th>\n",
       "      <th>Data de Publicação</th>\n",
       "      <th>Título</th>\n",
       "      <th>Resumo</th>\n",
       "      <th>Palavras-chave</th>\n",
       "      <th>Qtd. de Autores</th>\n",
       "      <th>Autor 1</th>\n",
       "      <th>Autor 2</th>\n",
       "      <th>Autor 3</th>\n",
       "      <th>Autor 4</th>\n",
       "      <th>Autor 5</th>\n",
       "      <th>Autor 6</th>\n",
       "      <th>Afiliação 1</th>\n",
       "      <th>Afiliação 2</th>\n",
       "      <th>Afiliação 3</th>\n",
       "      <th>Afiliação 4</th>\n",
       "      <th>Afiliação 5</th>\n",
       "      <th>Afiliação 6</th>\n",
       "      <th>Url Artigo</th>\n",
       "      <th>Revista</th>\n",
       "    </tr>\n",
       "  </thead>\n",
       "  <tbody>\n",
       "    <tr>\n",
       "      <th>0</th>\n",
       "      <td>2021-08-17</td>\n",
       "      <td>The Impact of Product Diversity on the Relatio...</td>\n",
       "      <td>The aim of this study was to investigate the m...</td>\n",
       "      <td>Internacionalization. Performance. Product div...</td>\n",
       "      <td>3</td>\n",
       "      <td>Vitor Fonseca Machado Beling Dias</td>\n",
       "      <td>Antônio Sergio Torres Penedo</td>\n",
       "      <td>Vinicius Silva Pereira</td>\n",
       "      <td></td>\n",
       "      <td></td>\n",
       "      <td></td>\n",
       "      <td>Universidade Federal de Uberlândia</td>\n",
       "      <td>Universidade Federal de Uberlândia</td>\n",
       "      <td>Universidade Federal de Uberlândia</td>\n",
       "      <td></td>\n",
       "      <td></td>\n",
       "      <td></td>\n",
       "      <td>http://revistas.unisinos.br/index.php/base/art...</td>\n",
       "      <td>BASE (UNISINOS)</td>\n",
       "    </tr>\n",
       "    <tr>\n",
       "      <th>1</th>\n",
       "      <td>2021-05-25</td>\n",
       "      <td>A model of social audit for university foundat...</td>\n",
       "      <td>The Social Audit is the report that informs ab...</td>\n",
       "      <td></td>\n",
       "      <td>3</td>\n",
       "      <td>Sady Mazzioni</td>\n",
       "      <td>João Eduardo Prudêncio Tinoco</td>\n",
       "      <td>Antonio Benedito Silva Oliveira</td>\n",
       "      <td></td>\n",
       "      <td></td>\n",
       "      <td></td>\n",
       "      <td></td>\n",
       "      <td></td>\n",
       "      <td></td>\n",
       "      <td></td>\n",
       "      <td></td>\n",
       "      <td></td>\n",
       "      <td>http://revistas.unisinos.br/index.php/base/art...</td>\n",
       "      <td>BASE (UNISINOS)</td>\n",
       "    </tr>\n",
       "  </tbody>\n",
       "</table>\n",
       "</div>"
      ],
      "text/plain": [
       "  Data de Publicação                                             Título  \\\n",
       "0         2021-08-17  The Impact of Product Diversity on the Relatio...   \n",
       "1         2021-05-25  A model of social audit for university foundat...   \n",
       "\n",
       "                                              Resumo  \\\n",
       "0  The aim of this study was to investigate the m...   \n",
       "1  The Social Audit is the report that informs ab...   \n",
       "\n",
       "                                      Palavras-chave  Qtd. de Autores  \\\n",
       "0  Internacionalization. Performance. Product div...                3   \n",
       "1                                                                   3   \n",
       "\n",
       "                             Autor 1                        Autor 2  \\\n",
       "0  Vitor Fonseca Machado Beling Dias   Antônio Sergio Torres Penedo   \n",
       "1                      Sady Mazzioni  João Eduardo Prudêncio Tinoco   \n",
       "\n",
       "                           Autor 3 Autor 4 Autor 5 Autor 6  \\\n",
       "0           Vinicius Silva Pereira                           \n",
       "1  Antonio Benedito Silva Oliveira                           \n",
       "\n",
       "                          Afiliação 1                         Afiliação 2  \\\n",
       "0  Universidade Federal de Uberlândia  Universidade Federal de Uberlândia   \n",
       "1                                                                           \n",
       "\n",
       "                          Afiliação 3 Afiliação 4 Afiliação 5 Afiliação 6  \\\n",
       "0  Universidade Federal de Uberlândia                                       \n",
       "1                                                                           \n",
       "\n",
       "                                          Url Artigo          Revista  \n",
       "0  http://revistas.unisinos.br/index.php/base/art...  BASE (UNISINOS)  \n",
       "1  http://revistas.unisinos.br/index.php/base/art...  BASE (UNISINOS)  "
      ]
     },
     "execution_count": 23,
     "metadata": {},
     "output_type": "execute_result"
    }
   ],
   "source": [
    "key_words_list = ['contabilidade ambiental', 'balanço social', 'relato integrado', 'nbct 15']\n",
    "df = realizar_consulta(key_words_list)\n",
    "df.head(3)"
   ]
  },
  {
   "cell_type": "code",
   "execution_count": 24,
   "id": "71233ca3-6bf8-40f7-88e5-bc015740d7e4",
   "metadata": {},
   "outputs": [],
   "source": [
    "df.to_csv('../data/BASE_UNISINOS.csv', index=False)"
   ]
  },
  {
   "cell_type": "code",
   "execution_count": 25,
   "id": "57e11bb8-3d23-4d86-b0b7-99e98da8b196",
   "metadata": {},
   "outputs": [
    {
     "data": {
      "text/html": [
       "<div>\n",
       "<style scoped>\n",
       "    .dataframe tbody tr th:only-of-type {\n",
       "        vertical-align: middle;\n",
       "    }\n",
       "\n",
       "    .dataframe tbody tr th {\n",
       "        vertical-align: top;\n",
       "    }\n",
       "\n",
       "    .dataframe thead th {\n",
       "        text-align: right;\n",
       "    }\n",
       "</style>\n",
       "<table border=\"1\" class=\"dataframe\">\n",
       "  <thead>\n",
       "    <tr style=\"text-align: right;\">\n",
       "      <th></th>\n",
       "      <th>Data de Publicação</th>\n",
       "      <th>Título</th>\n",
       "      <th>Resumo</th>\n",
       "      <th>Palavras-chave</th>\n",
       "      <th>Qtd. de Autores</th>\n",
       "      <th>Autor 1</th>\n",
       "      <th>Autor 2</th>\n",
       "      <th>Autor 3</th>\n",
       "      <th>Autor 4</th>\n",
       "      <th>Autor 5</th>\n",
       "      <th>Autor 6</th>\n",
       "      <th>Afiliação 1</th>\n",
       "      <th>Afiliação 2</th>\n",
       "      <th>Afiliação 3</th>\n",
       "      <th>Afiliação 4</th>\n",
       "      <th>Afiliação 5</th>\n",
       "      <th>Afiliação 6</th>\n",
       "      <th>Url Artigo</th>\n",
       "      <th>Revista</th>\n",
       "    </tr>\n",
       "  </thead>\n",
       "  <tbody>\n",
       "    <tr>\n",
       "      <th>0</th>\n",
       "      <td>2021-08-17</td>\n",
       "      <td>The Impact of Product Diversity on the Relatio...</td>\n",
       "      <td>The aim of this study was to investigate the m...</td>\n",
       "      <td>Internacionalization. Performance. Product div...</td>\n",
       "      <td>3</td>\n",
       "      <td>Vitor Fonseca Machado Beling Dias</td>\n",
       "      <td>Antônio Sergio Torres Penedo</td>\n",
       "      <td>Vinicius Silva Pereira</td>\n",
       "      <td></td>\n",
       "      <td></td>\n",
       "      <td></td>\n",
       "      <td>Universidade Federal de Uberlândia</td>\n",
       "      <td>Universidade Federal de Uberlândia</td>\n",
       "      <td>Universidade Federal de Uberlândia</td>\n",
       "      <td></td>\n",
       "      <td></td>\n",
       "      <td></td>\n",
       "      <td>http://revistas.unisinos.br/index.php/base/art...</td>\n",
       "      <td>BASE (UNISINOS)</td>\n",
       "    </tr>\n",
       "    <tr>\n",
       "      <th>1</th>\n",
       "      <td>2021-05-25</td>\n",
       "      <td>A model of social audit for university foundat...</td>\n",
       "      <td>The Social Audit is the report that informs ab...</td>\n",
       "      <td></td>\n",
       "      <td>3</td>\n",
       "      <td>Sady Mazzioni</td>\n",
       "      <td>João Eduardo Prudêncio Tinoco</td>\n",
       "      <td>Antonio Benedito Silva Oliveira</td>\n",
       "      <td></td>\n",
       "      <td></td>\n",
       "      <td></td>\n",
       "      <td></td>\n",
       "      <td></td>\n",
       "      <td></td>\n",
       "      <td></td>\n",
       "      <td></td>\n",
       "      <td></td>\n",
       "      <td>http://revistas.unisinos.br/index.php/base/art...</td>\n",
       "      <td>BASE (UNISINOS)</td>\n",
       "    </tr>\n",
       "  </tbody>\n",
       "</table>\n",
       "</div>"
      ],
      "text/plain": [
       "  Data de Publicação                                             Título  \\\n",
       "0         2021-08-17  The Impact of Product Diversity on the Relatio...   \n",
       "1         2021-05-25  A model of social audit for university foundat...   \n",
       "\n",
       "                                              Resumo  \\\n",
       "0  The aim of this study was to investigate the m...   \n",
       "1  The Social Audit is the report that informs ab...   \n",
       "\n",
       "                                      Palavras-chave  Qtd. de Autores  \\\n",
       "0  Internacionalization. Performance. Product div...                3   \n",
       "1                                                                   3   \n",
       "\n",
       "                             Autor 1                        Autor 2  \\\n",
       "0  Vitor Fonseca Machado Beling Dias   Antônio Sergio Torres Penedo   \n",
       "1                      Sady Mazzioni  João Eduardo Prudêncio Tinoco   \n",
       "\n",
       "                           Autor 3 Autor 4 Autor 5 Autor 6  \\\n",
       "0           Vinicius Silva Pereira                           \n",
       "1  Antonio Benedito Silva Oliveira                           \n",
       "\n",
       "                          Afiliação 1                         Afiliação 2  \\\n",
       "0  Universidade Federal de Uberlândia  Universidade Federal de Uberlândia   \n",
       "1                                                                           \n",
       "\n",
       "                          Afiliação 3 Afiliação 4 Afiliação 5 Afiliação 6  \\\n",
       "0  Universidade Federal de Uberlândia                                       \n",
       "1                                                                           \n",
       "\n",
       "                                          Url Artigo          Revista  \n",
       "0  http://revistas.unisinos.br/index.php/base/art...  BASE (UNISINOS)  \n",
       "1  http://revistas.unisinos.br/index.php/base/art...  BASE (UNISINOS)  "
      ]
     },
     "execution_count": 25,
     "metadata": {},
     "output_type": "execute_result"
    }
   ],
   "source": [
    "df"
   ]
  },
  {
   "cell_type": "code",
   "execution_count": null,
   "id": "4ba6bd49-1e54-4df3-9764-0e147eaf9291",
   "metadata": {},
   "outputs": [],
   "source": []
  }
 ],
 "metadata": {
  "kernelspec": {
   "display_name": "venv",
   "language": "python",
   "name": "venv"
  },
  "language_info": {
   "codemirror_mode": {
    "name": "ipython",
    "version": 3
   },
   "file_extension": ".py",
   "mimetype": "text/x-python",
   "name": "python",
   "nbconvert_exporter": "python",
   "pygments_lexer": "ipython3",
   "version": "3.10.4"
  }
 },
 "nbformat": 4,
 "nbformat_minor": 5
}
