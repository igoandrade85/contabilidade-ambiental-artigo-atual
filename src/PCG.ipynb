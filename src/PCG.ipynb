{
 "cells": [
  {
   "cell_type": "markdown",
   "id": "df30e26c-9abf-40af-b2b1-d70c2d6ea61f",
   "metadata": {
    "tags": []
   },
   "source": [
    "# Práticas em Contabilidade e Gestão"
   ]
  },
  {
   "cell_type": "markdown",
   "id": "fe988f18-e6fb-4503-8332-86692bc5bda6",
   "metadata": {},
   "source": [
    "## Bibliotecas importadas"
   ]
  },
  {
   "cell_type": "code",
   "execution_count": 1,
   "id": "dab4dd4a-872c-472d-b7f6-3993f94fb82a",
   "metadata": {},
   "outputs": [],
   "source": [
    "import requests\n",
    "from bs4 import BeautifulSoup\n",
    "\n",
    "import pandas as pd"
   ]
  },
  {
   "cell_type": "markdown",
   "id": "e99d241f-0c72-426a-abbe-00f36ce44e00",
   "metadata": {
    "tags": []
   },
   "source": [
    "## Funções básicas"
   ]
  },
  {
   "cell_type": "code",
   "execution_count": 2,
   "id": "89c421a9-5768-4f88-9240-feba8e27f923",
   "metadata": {},
   "outputs": [],
   "source": [
    "def criar_query(key_word):\n",
    "    return \"+\".join(key_word.split())"
   ]
  },
  {
   "cell_type": "code",
   "execution_count": 3,
   "id": "eeb94304-948e-46e7-bf69-c7afc7fa701e",
   "metadata": {},
   "outputs": [],
   "source": [
    "def listar_links_pagina(query, url_search, pg_num=1):\n",
    "    page = requests.get(url_search)\n",
    "    soup = BeautifulSoup(page.content, 'html.parser')\n",
    "    div_results = soup.find_all('div', {'class': 'title'})\n",
    "    a_links = [a.find('a')['href'] for a in div_results]\n",
    "    return a_links"
   ]
  },
  {
   "cell_type": "code",
   "execution_count": 4,
   "id": "1882f580-dee2-4890-9b3f-847ab27e0218",
   "metadata": {},
   "outputs": [],
   "source": [
    "def listar_links(url_search_text, query, pg_num=1):\n",
    "    a_links = [] \n",
    "    while True:\n",
    "        url_search = url_search_text.replace('__query__', query).replace('__pg_num__', str(pg_num))\n",
    "        tmp = listar_links_pagina(query, url_search, pg_num)\n",
    "        if len(tmp) != 0:\n",
    "            pg_num += 1\n",
    "            a_links += tmp\n",
    "        else:\n",
    "            break\n",
    "    return a_links"
   ]
  },
  {
   "cell_type": "code",
   "execution_count": 5,
   "id": "7097f95b-7729-4e9e-9f2c-f576f603f890",
   "metadata": {},
   "outputs": [],
   "source": [
    "url_search_text = 'http://editorarevistas.mackenzie.br/index.php/pcg/search/search?query=__query__&searchJournal=34&authors=&title=&abstract=&galleyFullText=&discipline=&subject=&type=&coverage=&indexTerms=&dateFromMonth=&dateFromDay=&dateFromYear=2013&dateToMonth=&dateToDay=&dateToYear=2021&orderBy=score&orderDir=desc&searchPage=__pg_num__#results'\n",
    "links = listar_links(url_search_text, 'contabilidade', pg_num=1)\n"
   ]
  },
  {
   "cell_type": "code",
   "execution_count": 6,
   "id": "505b1f20-e533-475b-99eb-b7c3e0f9f9a4",
   "metadata": {},
   "outputs": [],
   "source": [
    "def completar_lista(lista):\n",
    "    if len(lista) < 6:\n",
    "        lista += (6 - len(lista)) * ['']\n",
    "    return lista"
   ]
  },
  {
   "cell_type": "code",
   "execution_count": 7,
   "id": "380fbe5b-f745-404a-a766-62f9df21691e",
   "metadata": {},
   "outputs": [],
   "source": [
    "def captura_titulo(soup):\n",
    "    try:\n",
    "        title = soup.find('h1', {'class': 'page_title'}).text\n",
    "        title = ' '.join(title.split())\n",
    "    except:\n",
    "        title = ''\n",
    "    return {'Título': title}"
   ]
  },
  {
   "cell_type": "code",
   "execution_count": 8,
   "id": "50468f30-b4ce-4213-8579-4af8ee579376",
   "metadata": {},
   "outputs": [],
   "source": [
    "def captura_data(soup):\n",
    "    try:\n",
    "        date_tag = soup.find('div', {'class': 'item published'})\n",
    "        date = date_tag.find('div', {'class': 'value'}).text\n",
    "        date = ' '.join(date.split())\n",
    "    except:\n",
    "        date = ''\n",
    "    return {'Data de Publicação': date}"
   ]
  },
  {
   "cell_type": "code",
   "execution_count": 9,
   "id": "b230fedd-6d44-4a81-acf9-60e876529a31",
   "metadata": {},
   "outputs": [],
   "source": [
    "def captura_resumo(soup):\n",
    "    try:\n",
    "        abstract = soup.find('div', {'class': 'item abstract'}).text\n",
    "        abstract = abstract.replace('Resumo', '')\n",
    "        abstract = ' '.join(abstract.split())\n",
    "    except:\n",
    "        abstract = ''\n",
    "    return {'Resumo': abstract}"
   ]
  },
  {
   "cell_type": "code",
   "execution_count": 10,
   "id": "f38caded-13c5-4c28-986d-f00660034281",
   "metadata": {},
   "outputs": [],
   "source": [
    "def captura_palavras_chave(soup):\n",
    "    try:\n",
    "        kw_tag = soup.find('div', {'class': 'item keywords'})\n",
    "        kw = kw_tag.find('span', {'class': 'value'}).text.replace(',', '.').replace(';', '.')\n",
    "        kw = ' '.join(kw.split())\n",
    "    except:\n",
    "        kw = ''\n",
    "    return {'Palavras-chave': kw}"
   ]
  },
  {
   "cell_type": "code",
   "execution_count": 11,
   "id": "36367342-b031-4345-95a9-e843c9b3c5e9",
   "metadata": {},
   "outputs": [],
   "source": [
    "def captura_autores(soup):\n",
    "    autores = []\n",
    "    try:\n",
    "        authors_ul = soup.find('ul', {'class': 'item authors'})\n",
    "        autores = authors_ul.find_all('span', {'class': 'name'})\n",
    "        autores = [' '.join(a.text.split()) for a in autores]\n",
    "    except:\n",
    "        pass\n",
    "    qtd_autores = len(autores)\n",
    "    autores = completar_lista(autores)\n",
    "    autores = [qtd_autores] + autores\n",
    "    \n",
    "    key_autores = [f\"Autor {i}\" for i in range(1, 7)]\n",
    "    key_autores = ['Qtd. de Autores'] + key_autores\n",
    "\n",
    "    return dict(zip(key_autores, autores))"
   ]
  },
  {
   "cell_type": "code",
   "execution_count": 12,
   "id": "2aa8fd49-3fe3-41fc-927f-bb933136d0e2",
   "metadata": {},
   "outputs": [],
   "source": [
    "def captura_afiliacao(soup):\n",
    "    afiliacao = []\n",
    "    try:\n",
    "        authors_ul = soup.find('ul', {'class': 'item authors'})\n",
    "        afiliacao = authors_ul.find_all('span', {'class': 'affiliation'})\n",
    "        afiliacao = [' '.join(a.text.split()) for a in afiliacao]\n",
    "        \n",
    "    except:\n",
    "        pass\n",
    "    afiliacao = completar_lista(afiliacao)\n",
    "    \n",
    "    key_affiliation = [f\"Afiliação {i}\" for i in range(1, 7)]\n",
    "\n",
    "    return dict(zip(key_affiliation, afiliacao))"
   ]
  },
  {
   "cell_type": "code",
   "execution_count": 13,
   "id": "7e8194b3-a261-43b5-aaf5-1510ee1d1b50",
   "metadata": {},
   "outputs": [],
   "source": [
    "def realizar_consulta(key_words_list):\n",
    "    periodico_nome_dict = {'Revista': 'Práticas em Contabilidade e Gestão'}\n",
    "    url_search_text = 'http://editorarevistas.mackenzie.br/index.php/pcg/search/search?query=__query__&searchJournal=34&authors=&title=&abstract=&galleyFullText=&discipline=&subject=&type=&coverage=&indexTerms=&dateFromMonth=&dateFromDay=&dateFromYear=2013&dateToMonth=&dateToDay=&dateToYear=2021&orderBy=score&orderDir=desc&searchPage=__pg_num__#results'\n",
    "    a_links = []\n",
    "    for key_word in key_words_list:\n",
    "        query = criar_query(key_word)\n",
    "        a_links += listar_links(url_search_text, query)\n",
    "        \n",
    "    resultados = []\n",
    "    for link in a_links:\n",
    "        link_dict = {'Url Artigo': link}\n",
    "        page = requests.get(link)\n",
    "        soup = BeautifulSoup(page.content, 'html.parser')\n",
    "        dict_artigo = {\n",
    "            **captura_data(soup),\n",
    "            **captura_titulo(soup),\n",
    "            **captura_resumo(soup),\n",
    "            **captura_palavras_chave(soup),\n",
    "            **captura_autores(soup),\n",
    "            **captura_afiliacao(soup),\n",
    "            **link_dict,\n",
    "            **periodico_nome_dict\n",
    "        }\n",
    "        resultados.append(dict_artigo)\n",
    "    df = pd.DataFrame(resultados)\n",
    "    #df['Data de Publicação'] = pd.to_datetime(df['Data de Publicação'], format='%Y-%m-%d')\n",
    "    return df"
   ]
  },
  {
   "cell_type": "markdown",
   "id": "2b0abfd7-a392-42f5-a377-7b0db2717e3f",
   "metadata": {},
   "source": [
    "## Pesquisa por artigos"
   ]
  },
  {
   "cell_type": "code",
   "execution_count": 14,
   "id": "3fcf8092-c93f-4fb4-8624-8793be02c073",
   "metadata": {},
   "outputs": [
    {
     "data": {
      "text/html": [
       "<div>\n",
       "<style scoped>\n",
       "    .dataframe tbody tr th:only-of-type {\n",
       "        vertical-align: middle;\n",
       "    }\n",
       "\n",
       "    .dataframe tbody tr th {\n",
       "        vertical-align: top;\n",
       "    }\n",
       "\n",
       "    .dataframe thead th {\n",
       "        text-align: right;\n",
       "    }\n",
       "</style>\n",
       "<table border=\"1\" class=\"dataframe\">\n",
       "  <thead>\n",
       "    <tr style=\"text-align: right;\">\n",
       "      <th></th>\n",
       "    </tr>\n",
       "  </thead>\n",
       "  <tbody>\n",
       "  </tbody>\n",
       "</table>\n",
       "</div>"
      ],
      "text/plain": [
       "Empty DataFrame\n",
       "Columns: []\n",
       "Index: []"
      ]
     },
     "execution_count": 14,
     "metadata": {},
     "output_type": "execute_result"
    }
   ],
   "source": [
    "key_words_list = ['contabilidade ambiental', 'balanço social', 'relato integrado', 'nbct 15']\n",
    "df = realizar_consulta(key_words_list)\n",
    "df.head()"
   ]
  },
  {
   "cell_type": "code",
   "execution_count": 15,
   "id": "71233ca3-6bf8-40f7-88e5-bc015740d7e4",
   "metadata": {},
   "outputs": [],
   "source": [
    "df.to_csv('../data/PCG.csv', index=False)"
   ]
  },
  {
   "cell_type": "code",
   "execution_count": 16,
   "id": "57e11bb8-3d23-4d86-b0b7-99e98da8b196",
   "metadata": {},
   "outputs": [
    {
     "data": {
      "text/html": [
       "<div>\n",
       "<style scoped>\n",
       "    .dataframe tbody tr th:only-of-type {\n",
       "        vertical-align: middle;\n",
       "    }\n",
       "\n",
       "    .dataframe tbody tr th {\n",
       "        vertical-align: top;\n",
       "    }\n",
       "\n",
       "    .dataframe thead th {\n",
       "        text-align: right;\n",
       "    }\n",
       "</style>\n",
       "<table border=\"1\" class=\"dataframe\">\n",
       "  <thead>\n",
       "    <tr style=\"text-align: right;\">\n",
       "      <th></th>\n",
       "    </tr>\n",
       "  </thead>\n",
       "  <tbody>\n",
       "  </tbody>\n",
       "</table>\n",
       "</div>"
      ],
      "text/plain": [
       "Empty DataFrame\n",
       "Columns: []\n",
       "Index: []"
      ]
     },
     "execution_count": 16,
     "metadata": {},
     "output_type": "execute_result"
    }
   ],
   "source": [
    "df"
   ]
  },
  {
   "cell_type": "code",
   "execution_count": null,
   "id": "4ba6bd49-1e54-4df3-9764-0e147eaf9291",
   "metadata": {},
   "outputs": [],
   "source": []
  }
 ],
 "metadata": {
  "kernelspec": {
   "display_name": "venv",
   "language": "python",
   "name": "venv"
  },
  "language_info": {
   "codemirror_mode": {
    "name": "ipython",
    "version": 3
   },
   "file_extension": ".py",
   "mimetype": "text/x-python",
   "name": "python",
   "nbconvert_exporter": "python",
   "pygments_lexer": "ipython3",
   "version": "3.9.7"
  }
 },
 "nbformat": 4,
 "nbformat_minor": 5
}
